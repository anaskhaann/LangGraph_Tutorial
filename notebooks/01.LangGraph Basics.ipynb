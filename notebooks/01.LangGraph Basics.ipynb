{
 "cells": [
  {
   "cell_type": "code",
   "execution_count": 8,
   "id": "ed5f4190",
   "metadata": {},
   "outputs": [],
   "source": [
    "from langgraph.graph import StateGraph, START, END\n",
    "from typing import TypedDict"
   ]
  },
  {
   "cell_type": "markdown",
   "id": "da284756",
   "metadata": {},
   "source": [
    "## Simple Graph to understand working/Syntax of LangGraph.\n",
    "\n",
    "We will make a BMI calculator using two states weight and height and then create a result of it.\n"
   ]
  },
  {
   "cell_type": "markdown",
   "id": "43c0dfc4",
   "metadata": {},
   "source": [
    "**Steps Involved**\n",
    "\n",
    "1. Create States using a class\n",
    "2. Create Graph Object of our class\n",
    "3. Add Nodes to Graph\n",
    "4. Add Edges to Graph\n",
    "5. Complie and Check the Graph\n"
   ]
  },
  {
   "cell_type": "code",
   "execution_count": 4,
   "id": "c2f02646",
   "metadata": {},
   "outputs": [],
   "source": [
    "# define states\n",
    "\n",
    "\n",
    "class BMIState(TypedDict):\n",
    "    weight_kg: float\n",
    "    height_m: float\n",
    "    bmi: float"
   ]
  },
  {
   "cell_type": "code",
   "execution_count": 5,
   "id": "e8d54d9b",
   "metadata": {},
   "outputs": [],
   "source": [
    "# Create graph\n",
    "\n",
    "graph_obj = StateGraph(BMIState)"
   ]
  },
  {
   "cell_type": "markdown",
   "id": "8552aea7",
   "metadata": {},
   "source": [
    "> Now internally all nodes are python functions so we need to specify the function name for each nodes\n"
   ]
  },
  {
   "cell_type": "code",
   "execution_count": 6,
   "id": "b2335ae9",
   "metadata": {},
   "outputs": [],
   "source": [
    "# This function will recieve the graph state\n",
    "# And after finishing the task it will also return the state\n",
    "\n",
    "\n",
    "\"\"\"\n",
    "We will recieve the weight and height from state.\n",
    "Update the state.\n",
    "Return the state.\n",
    "\"\"\"\n",
    "\n",
    "\n",
    "def calculate_bmi(state: BMIState) -> BMIState:\n",
    "    weight = state[\"weight_kg\"]\n",
    "    height = state[\"height_m\"]\n",
    "\n",
    "    bmi = weight / (height**2)\n",
    "\n",
    "    # Now update the bmi value in state which will get return\n",
    "    state[\"bmi\"] = round(bmi, 2)\n",
    "\n",
    "    return state"
   ]
  },
  {
   "cell_type": "code",
   "execution_count": 7,
   "id": "5b187337",
   "metadata": {},
   "outputs": [
    {
     "data": {
      "text/plain": [
       "<langgraph.graph.state.StateGraph at 0x242d8fc7380>"
      ]
     },
     "execution_count": 7,
     "metadata": {},
     "output_type": "execute_result"
    }
   ],
   "source": [
    "# We need to create node with the function name\n",
    "\n",
    "# graph_obj.add_node(name,function)\n",
    "graph_obj.add_node(\"final_bmi\", calculate_bmi)"
   ]
  },
  {
   "cell_type": "markdown",
   "id": "662aa558",
   "metadata": {},
   "source": [
    "> Since we have a simple workflow we only have two edges\n",
    "\n",
    "> `starte --> calulate bmi --> end`\n"
   ]
  },
  {
   "cell_type": "code",
   "execution_count": 9,
   "id": "bfa374ef",
   "metadata": {},
   "outputs": [
    {
     "data": {
      "text/plain": [
       "<langgraph.graph.state.StateGraph at 0x242d8fc7380>"
      ]
     },
     "execution_count": 9,
     "metadata": {},
     "output_type": "execute_result"
    }
   ],
   "source": [
    "# create edge\n",
    "\n",
    "# graph_obj.add_edge(start,end)\n",
    "graph_obj.add_edge(START, \"final_bmi\")\n",
    "graph_obj.add_edge(\"final_bmi\", END)"
   ]
  },
  {
   "cell_type": "markdown",
   "id": "a8fadf6a",
   "metadata": {},
   "source": [
    "> Make sure to compile and check the structure of the graph is it logically correct or not.\n"
   ]
  },
  {
   "cell_type": "code",
   "execution_count": 10,
   "id": "cdbdc058",
   "metadata": {},
   "outputs": [],
   "source": [
    "# Compile the graph : This will return a compile object\n",
    "workflow = graph_obj.compile()"
   ]
  },
  {
   "cell_type": "code",
   "execution_count": 11,
   "id": "fd300cd6",
   "metadata": {},
   "outputs": [
    {
     "data": {
      "image/png": "[encoded data removed]",
      "text/plain": [
       "<langgraph.graph.state.CompiledStateGraph object at 0x00000242D9126F90>"
      ]
     },
     "execution_count": 11,
     "metadata": {},
     "output_type": "execute_result"
    }
   ],
   "source": [
    "workflow"
   ]
  },
  {
   "cell_type": "code",
   "execution_count": 13,
   "id": "3003cc17",
   "metadata": {},
   "outputs": [
    {
     "data": {
      "text/plain": [
       "{'weight_kg': 52, 'height_m': 1.72, 'bmi': 17.58}"
      ]
     },
     "execution_count": 13,
     "metadata": {},
     "output_type": "execute_result"
    }
   ],
   "source": [
    "# Execute the graph\n",
    "\n",
    "workflow.invoke({\"weight_kg\": 52, \"height_m\": 1.72})"
   ]
  },
  {
   "cell_type": "code",
   "execution_count": 14,
   "id": "718fbab3",
   "metadata": {},
   "outputs": [
    {
     "name": "stdout",
     "output_type": "stream",
     "text": [
      "{'weight_kg': 52, 'height_m': 1.72, 'bmi': 17.58}\n"
     ]
    }
   ],
   "source": [
    "\"\"\"\n",
    "Since final output is also a state so we can write it this way in much better way\n",
    "\"\"\"\n",
    "\n",
    "initial_state = {\"weight_kg\": 52, \"height_m\": 1.72}\n",
    "final_state = workflow.invoke(initial_state)\n",
    "print(final_state)"
   ]
  },
  {
   "cell_type": "markdown",
   "id": "9ab29bfb",
   "metadata": {},
   "source": [
    "## Lets make this workflow More Complex.\n",
    "\n",
    "Based on the final value we get, we need to identify whether the person is obese, underweight, overwieght etc.\n"
   ]
  },
  {
   "cell_type": "code",
   "execution_count": 27,
   "id": "82cbf118",
   "metadata": {},
   "outputs": [],
   "source": [
    "class BMIState(TypedDict):\n",
    "    weight_kg: float\n",
    "    height_m: float\n",
    "    bmi: float\n",
    "    category: str"
   ]
  },
  {
   "cell_type": "code",
   "execution_count": 28,
   "id": "bde7f979",
   "metadata": {},
   "outputs": [],
   "source": [
    "graph_obj = StateGraph(BMIState)"
   ]
  },
  {
   "cell_type": "code",
   "execution_count": 29,
   "id": "36628f3b",
   "metadata": {},
   "outputs": [],
   "source": [
    "def calculate_bmi(state: BMIState) -> BMIState:\n",
    "    weight = state[\"weight_kg\"]\n",
    "    height = state[\"height_m\"]\n",
    "\n",
    "    bmi = weight / (height**2)\n",
    "\n",
    "    # Now update the bmi value in state which will get return\n",
    "    state[\"bmi\"] = round(bmi, 2)\n",
    "\n",
    "    return state"
   ]
  },
  {
   "cell_type": "code",
   "execution_count": 30,
   "id": "128569c1",
   "metadata": {},
   "outputs": [],
   "source": [
    "def label_bmi(state: BMIState) -> BMIState:\n",
    "    bmi = state[\"bmi\"]\n",
    "\n",
    "    if bmi < 18.5:\n",
    "        state[\"category\"] = \"Under weight\"\n",
    "    elif 18.5 <= bmi < 25:\n",
    "        state[\"category\"] = \"Normal\"\n",
    "    elif 25 <= bmi < 30:\n",
    "        state[\"category\"] = \"Over Weight\"\n",
    "    else:\n",
    "        state[\"category\"] = \"Obese\"\n",
    "\n",
    "    return state"
   ]
  },
  {
   "cell_type": "markdown",
   "id": "b1ba9da1",
   "metadata": {},
   "source": [
    "> Now in this we have 2 nodes and three edges\n"
   ]
  },
  {
   "cell_type": "code",
   "execution_count": 31,
   "id": "03810920",
   "metadata": {},
   "outputs": [
    {
     "data": {
      "text/plain": [
       "<langgraph.graph.state.StateGraph at 0x242d936d1d0>"
      ]
     },
     "execution_count": 31,
     "metadata": {},
     "output_type": "execute_result"
    }
   ],
   "source": [
    "graph_obj.add_node(\"final_bmi\", calculate_bmi)\n",
    "graph_obj.add_node(\"body_type\", label_bmi)"
   ]
  },
  {
   "cell_type": "code",
   "execution_count": 32,
   "id": "bdfc83e6",
   "metadata": {},
   "outputs": [
    {
     "data": {
      "text/plain": [
       "<langgraph.graph.state.StateGraph at 0x242d936d1d0>"
      ]
     },
     "execution_count": 32,
     "metadata": {},
     "output_type": "execute_result"
    }
   ],
   "source": [
    "graph_obj.add_edge(START, \"final_bmi\")\n",
    "graph_obj.add_edge(\"final_bmi\", \"body_type\")\n",
    "graph_obj.add_edge(\"body_type\", END)"
   ]
  },
  {
   "cell_type": "code",
   "execution_count": 33,
   "id": "fed1dd3f",
   "metadata": {},
   "outputs": [
    {
     "data": {
      "image/png": "[encoded data removed]",
      "text/plain": [
       "<langgraph.graph.state.CompiledStateGraph object at 0x00000242D936DD10>"
      ]
     },
     "execution_count": 33,
     "metadata": {},
     "output_type": "execute_result"
    }
   ],
   "source": [
    "workflow = graph_obj.compile()\n",
    "workflow"
   ]
  },
  {
   "cell_type": "code",
   "execution_count": 42,
   "id": "14ea42b7",
   "metadata": {},
   "outputs": [],
   "source": [
    "initial_state2 = {\"weight_kg\": 70, \"height_m\": 1.72}\n",
    "result = workflow.invoke(initial_state2)"
   ]
  },
  {
   "cell_type": "code",
   "execution_count": 43,
   "id": "16a26662",
   "metadata": {},
   "outputs": [
    {
     "data": {
      "text/plain": [
       "{'weight_kg': 70, 'height_m': 1.72, 'bmi': 23.66, 'category': 'Normal'}"
      ]
     },
     "execution_count": 43,
     "metadata": {},
     "output_type": "execute_result"
    }
   ],
   "source": [
    "result"
   ]
  }
 ],
 "metadata": {
  "kernelspec": {
   "display_name": "LangGraph (3.13.7)",
   "language": "python",
   "name": "python3"
  },
  "language_info": {
   "codemirror_mode": {
    "name": "ipython",
    "version": 3
   },
   "file_extension": ".py",
   "mimetype": "text/x-python",
   "name": "python",
   "nbconvert_exporter": "python",
   "pygments_lexer": "ipython3",
   "version": "3.13.7"
  }
 },
 "nbformat": 4,
 "nbformat_minor": 5
}
