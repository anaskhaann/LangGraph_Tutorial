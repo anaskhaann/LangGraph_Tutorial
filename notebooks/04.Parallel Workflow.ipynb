{
 "cells": [
  {
   "cell_type": "code",
   "execution_count": 1,
   "id": "0c881a67",
   "metadata": {},
   "outputs": [],
   "source": [
    "from langgraph.graph import StateGraph, START, END\n",
    "from typing import TypedDict"
   ]
  },
  {
   "cell_type": "markdown",
   "id": "9945cde8",
   "metadata": {},
   "source": [
    "A simple Parallel Workflow without LLM\n",
    "\n",
    "In input we are getting:\n",
    "\n",
    "- runs\n",
    "- balls\n",
    "- 4s\n",
    "- 6s\n",
    "\n",
    "And based on the input given we have to get:\n",
    "\n",
    "- Strike Rate\n",
    "- Runs in boundary\n",
    "- Ball per boundary\n",
    "\n",
    "The above 3 values can be easily calculated parallely cause they are not depend on each others data\n"
   ]
  },
  {
   "cell_type": "code",
   "execution_count": 19,
   "id": "a20d5ed8",
   "metadata": {},
   "outputs": [],
   "source": [
    "class BatsManState(TypedDict):\n",
    "    # Input attributes\n",
    "    runs: int\n",
    "    balls: int\n",
    "    number_4s: int\n",
    "    number_6s: int\n",
    "\n",
    "    # Output-> Calculate attributes\n",
    "    strike_rate: float\n",
    "    bound_per_ball: float\n",
    "    boundary_percent: float\n",
    "    summary: str"
   ]
  },
  {
   "cell_type": "code",
   "execution_count": 20,
   "id": "4a59adc0",
   "metadata": {},
   "outputs": [],
   "source": [
    "graph = StateGraph(BatsManState)"
   ]
  },
  {
   "cell_type": "code",
   "execution_count": null,
   "id": "f910ef66",
   "metadata": {},
   "outputs": [],
   "source": [
    "def calculate_sr(state: BatsManState) -> BatsManState:\n",
    "    # To calculate strike rate we divide the runs made by 100\n",
    "\n",
    "    sr = (state[\"runs\"] / state[\"balls\"]) * 100\n",
    "\n",
    "    state[\"strike_rate\"] = sr\n",
    "\n",
    "    return state"
   ]
  },
  {
   "cell_type": "code",
   "execution_count": 22,
   "id": "9ec8a820",
   "metadata": {},
   "outputs": [],
   "source": [
    "def calculate_boundary_per_ball(state: BatsManState) -> BatsManState:\n",
    "    # Number of balls divide by number of 4s and 6s\n",
    "\n",
    "    bpb = state[\"balls\"] / (state[\"number_4s\"] + state[\"number_6s\"])\n",
    "\n",
    "    state[\"bound_per_ball\"] = bpb\n",
    "\n",
    "    return state"
   ]
  },
  {
   "cell_type": "code",
   "execution_count": 23,
   "id": "4a9c70d7",
   "metadata": {},
   "outputs": [],
   "source": [
    "def calculate_boundary_percent(state: BatsManState) -> BatsManState:\n",
    "    # Total runs with 4s and 6s divide by total runs\n",
    "\n",
    "    boundary_percent = (\n",
    "        ((state[\"number_4s\"] * 4) + (state[\"number_6s\"] * 6)) / state[\"runs\"]\n",
    "    ) * 100\n",
    "\n",
    "    state[\"boundary_percent\"] = boundary_percent\n",
    "\n",
    "    return state"
   ]
  },
  {
   "cell_type": "code",
   "execution_count": 24,
   "id": "14a7099e",
   "metadata": {},
   "outputs": [],
   "source": [
    "def summary(state: BatsManState) -> BatsManState:\n",
    "    summary = f\"\"\" \n",
    "    \n",
    "    Strike rate = {state[\"strike_rate\"]}\\n\n",
    "    Boundary Per Ball = {state[\"bound_per_ball\"]}\\n\n",
    "    Boundary Percent = {state[\"boundary_percent\"]}\\n\"\"\"\n",
    "\n",
    "    state[\"summary\"] = summary\n",
    "\n",
    "    return state"
   ]
  },
  {
   "cell_type": "code",
   "execution_count": 25,
   "id": "572f0e41",
   "metadata": {},
   "outputs": [
    {
     "data": {
      "text/plain": [
       "<langgraph.graph.state.StateGraph at 0x293c6894410>"
      ]
     },
     "execution_count": 25,
     "metadata": {},
     "output_type": "execute_result"
    }
   ],
   "source": [
    "# Add nodes\n",
    "\n",
    "graph.add_node(\"get_strike_rate\", calculate_sr)\n",
    "graph.add_node(\"get_boundaryPerBall\", calculate_boundary_per_ball)\n",
    "graph.add_node(\"get_boundaryPerc\", calculate_boundary_percent)\n",
    "graph.add_node(\"get_summary\", summary)"
   ]
  },
  {
   "cell_type": "code",
   "execution_count": 26,
   "id": "23d91854",
   "metadata": {},
   "outputs": [
    {
     "data": {
      "text/plain": [
       "<langgraph.graph.state.StateGraph at 0x293c6894410>"
      ]
     },
     "execution_count": 26,
     "metadata": {},
     "output_type": "execute_result"
    }
   ],
   "source": [
    "# Add edges\n",
    "\n",
    "# Parallel\n",
    "graph.add_edge(START, \"get_strike_rate\")\n",
    "graph.add_edge(START, \"get_boundaryPerBall\")\n",
    "graph.add_edge(START, \"get_boundaryPerc\")\n",
    "\n",
    "# Aggregation\n",
    "graph.add_edge(\"get_strike_rate\", \"get_summary\")\n",
    "graph.add_edge(\"get_boundaryPerBall\", \"get_summary\")\n",
    "graph.add_edge(\"get_boundaryPerc\", \"get_summary\")\n",
    "\n",
    "# Last Result\n",
    "graph.add_edge(\"get_summary\", END)"
   ]
  },
  {
   "cell_type": "code",
   "execution_count": 27,
   "id": "84295c1a",
   "metadata": {},
   "outputs": [],
   "source": [
    "# Compile and Check\n",
    "workflow = graph.compile()"
   ]
  },
  {
   "cell_type": "code",
   "execution_count": 28,
   "id": "0ba72e5f",
   "metadata": {},
   "outputs": [
    {
     "data": {
      "image/png": "[encoded data removed]",
      "text/plain": [
       "<langgraph.graph.state.CompiledStateGraph object at 0x00000293C52046E0>"
      ]
     },
     "execution_count": 28,
     "metadata": {},
     "output_type": "execute_result"
    }
   ],
   "source": [
    "workflow"
   ]
  },
  {
   "cell_type": "code",
   "execution_count": 29,
   "id": "9131ee43",
   "metadata": {},
   "outputs": [],
   "source": [
    "first_batsman = {\n",
    "    \"runs\": 120,\n",
    "    \"balls\": 50,\n",
    "    \"number_4s\": 14,\n",
    "    \"number_6s\": 8,\n",
    "}"
   ]
  },
  {
   "cell_type": "code",
   "execution_count": 30,
   "id": "a7061c6e",
   "metadata": {},
   "outputs": [
    {
     "ename": "InvalidUpdateError",
     "evalue": "At key 'runs': Can receive only one value per step. Use an Annotated key to handle multiple values.\nFor troubleshooting, visit: https://python.langchain.com/docs/troubleshooting/errors/INVALID_CONCURRENT_GRAPH_UPDATE",
     "output_type": "error",
     "traceback": [
      "\u001b[31m---------------------------------------------------------------------------\u001b[39m",
      "\u001b[31mInvalidUpdateError\u001b[39m                        Traceback (most recent call last)",
      "\u001b[36mCell\u001b[39m\u001b[36m \u001b[39m\u001b[32mIn[30]\u001b[39m\u001b[32m, line 1\u001b[39m\n\u001b[32m----> \u001b[39m\u001b[32m1\u001b[39m \u001b[43mworkflow\u001b[49m\u001b[43m.\u001b[49m\u001b[43minvoke\u001b[49m\u001b[43m(\u001b[49m\u001b[43mfirst_batsman\u001b[49m\u001b[43m)\u001b[49m\n",
      "\u001b[36mFile \u001b[39m\u001b[32md:\\Projects\\LangGraph\\.venv\\Lib\\site-packages\\langgraph\\pregel\\main.py:3026\u001b[39m, in \u001b[36mPregel.invoke\u001b[39m\u001b[34m(self, input, config, context, stream_mode, print_mode, output_keys, interrupt_before, interrupt_after, durability, **kwargs)\u001b[39m\n\u001b[32m   3023\u001b[39m chunks: \u001b[38;5;28mlist\u001b[39m[\u001b[38;5;28mdict\u001b[39m[\u001b[38;5;28mstr\u001b[39m, Any] | Any] = []\n\u001b[32m   3024\u001b[39m interrupts: \u001b[38;5;28mlist\u001b[39m[Interrupt] = []\n\u001b[32m-> \u001b[39m\u001b[32m3026\u001b[39m \u001b[43m\u001b[49m\u001b[38;5;28;43;01mfor\u001b[39;49;00m\u001b[43m \u001b[49m\u001b[43mchunk\u001b[49m\u001b[43m \u001b[49m\u001b[38;5;129;43;01min\u001b[39;49;00m\u001b[43m \u001b[49m\u001b[38;5;28;43mself\u001b[39;49m\u001b[43m.\u001b[49m\u001b[43mstream\u001b[49m\u001b[43m(\u001b[49m\n\u001b[32m   3027\u001b[39m \u001b[43m    \u001b[49m\u001b[38;5;28;43minput\u001b[39;49m\u001b[43m,\u001b[49m\n\u001b[32m   3028\u001b[39m \u001b[43m    \u001b[49m\u001b[43mconfig\u001b[49m\u001b[43m,\u001b[49m\n\u001b[32m   3029\u001b[39m \u001b[43m    \u001b[49m\u001b[43mcontext\u001b[49m\u001b[43m=\u001b[49m\u001b[43mcontext\u001b[49m\u001b[43m,\u001b[49m\n\u001b[32m   3030\u001b[39m \u001b[43m    \u001b[49m\u001b[43mstream_mode\u001b[49m\u001b[43m=\u001b[49m\u001b[43m[\u001b[49m\u001b[33;43m\"\u001b[39;49m\u001b[33;43mupdates\u001b[39;49m\u001b[33;43m\"\u001b[39;49m\u001b[43m,\u001b[49m\u001b[43m \u001b[49m\u001b[33;43m\"\u001b[39;49m\u001b[33;43mvalues\u001b[39;49m\u001b[33;43m\"\u001b[39;49m\u001b[43m]\u001b[49m\n\u001b[32m   3031\u001b[39m \u001b[43m    \u001b[49m\u001b[38;5;28;43;01mif\u001b[39;49;00m\u001b[43m \u001b[49m\u001b[43mstream_mode\u001b[49m\u001b[43m \u001b[49m\u001b[43m==\u001b[49m\u001b[43m \u001b[49m\u001b[33;43m\"\u001b[39;49m\u001b[33;43mvalues\u001b[39;49m\u001b[33;43m\"\u001b[39;49m\n\u001b[32m   3032\u001b[39m \u001b[43m    \u001b[49m\u001b[38;5;28;43;01melse\u001b[39;49;00m\u001b[43m \u001b[49m\u001b[43mstream_mode\u001b[49m\u001b[43m,\u001b[49m\n\u001b[32m   3033\u001b[39m \u001b[43m    \u001b[49m\u001b[43mprint_mode\u001b[49m\u001b[43m=\u001b[49m\u001b[43mprint_mode\u001b[49m\u001b[43m,\u001b[49m\n\u001b[32m   3034\u001b[39m \u001b[43m    \u001b[49m\u001b[43moutput_keys\u001b[49m\u001b[43m=\u001b[49m\u001b[43moutput_keys\u001b[49m\u001b[43m,\u001b[49m\n\u001b[32m   3035\u001b[39m \u001b[43m    \u001b[49m\u001b[43minterrupt_before\u001b[49m\u001b[43m=\u001b[49m\u001b[43minterrupt_before\u001b[49m\u001b[43m,\u001b[49m\n\u001b[32m   3036\u001b[39m \u001b[43m    \u001b[49m\u001b[43minterrupt_after\u001b[49m\u001b[43m=\u001b[49m\u001b[43minterrupt_after\u001b[49m\u001b[43m,\u001b[49m\n\u001b[32m   3037\u001b[39m \u001b[43m    \u001b[49m\u001b[43mdurability\u001b[49m\u001b[43m=\u001b[49m\u001b[43mdurability\u001b[49m\u001b[43m,\u001b[49m\n\u001b[32m   3038\u001b[39m \u001b[43m    \u001b[49m\u001b[43m*\u001b[49m\u001b[43m*\u001b[49m\u001b[43mkwargs\u001b[49m\u001b[43m,\u001b[49m\n\u001b[32m   3039\u001b[39m \u001b[43m\u001b[49m\u001b[43m)\u001b[49m\u001b[43m:\u001b[49m\n\u001b[32m   3040\u001b[39m \u001b[43m    \u001b[49m\u001b[38;5;28;43;01mif\u001b[39;49;00m\u001b[43m \u001b[49m\u001b[43mstream_mode\u001b[49m\u001b[43m \u001b[49m\u001b[43m==\u001b[49m\u001b[43m \u001b[49m\u001b[33;43m\"\u001b[39;49m\u001b[33;43mvalues\u001b[39;49m\u001b[33;43m\"\u001b[39;49m\u001b[43m:\u001b[49m\n\u001b[32m   3041\u001b[39m \u001b[43m        \u001b[49m\u001b[38;5;28;43;01mif\u001b[39;49;00m\u001b[43m \u001b[49m\u001b[38;5;28;43mlen\u001b[39;49m\u001b[43m(\u001b[49m\u001b[43mchunk\u001b[49m\u001b[43m)\u001b[49m\u001b[43m \u001b[49m\u001b[43m==\u001b[49m\u001b[43m \u001b[49m\u001b[32;43m2\u001b[39;49m\u001b[43m:\u001b[49m\n",
      "\u001b[36mFile \u001b[39m\u001b[32md:\\Projects\\LangGraph\\.venv\\Lib\\site-packages\\langgraph\\pregel\\main.py:2657\u001b[39m, in \u001b[36mPregel.stream\u001b[39m\u001b[34m(self, input, config, context, stream_mode, print_mode, output_keys, interrupt_before, interrupt_after, durability, subgraphs, debug, **kwargs)\u001b[39m\n\u001b[32m   2647\u001b[39m \u001b[38;5;28;01mfor\u001b[39;00m _ \u001b[38;5;129;01min\u001b[39;00m runner.tick(\n\u001b[32m   2648\u001b[39m     [t \u001b[38;5;28;01mfor\u001b[39;00m t \u001b[38;5;129;01min\u001b[39;00m loop.tasks.values() \u001b[38;5;28;01mif\u001b[39;00m \u001b[38;5;129;01mnot\u001b[39;00m t.writes],\n\u001b[32m   2649\u001b[39m     timeout=\u001b[38;5;28mself\u001b[39m.step_timeout,\n\u001b[32m   (...)\u001b[39m\u001b[32m   2652\u001b[39m ):\n\u001b[32m   2653\u001b[39m     \u001b[38;5;66;03m# emit output\u001b[39;00m\n\u001b[32m   2654\u001b[39m     \u001b[38;5;28;01myield from\u001b[39;00m _output(\n\u001b[32m   2655\u001b[39m         stream_mode, print_mode, subgraphs, stream.get, queue.Empty\n\u001b[32m   2656\u001b[39m     )\n\u001b[32m-> \u001b[39m\u001b[32m2657\u001b[39m \u001b[43mloop\u001b[49m\u001b[43m.\u001b[49m\u001b[43mafter_tick\u001b[49m\u001b[43m(\u001b[49m\u001b[43m)\u001b[49m\n\u001b[32m   2658\u001b[39m \u001b[38;5;66;03m# wait for checkpoint\u001b[39;00m\n\u001b[32m   2659\u001b[39m \u001b[38;5;28;01mif\u001b[39;00m durability_ == \u001b[33m\"\u001b[39m\u001b[33msync\u001b[39m\u001b[33m\"\u001b[39m:\n",
      "\u001b[36mFile \u001b[39m\u001b[32md:\\Projects\\LangGraph\\.venv\\Lib\\site-packages\\langgraph\\pregel\\_loop.py:525\u001b[39m, in \u001b[36mPregelLoop.after_tick\u001b[39m\u001b[34m(self)\u001b[39m\n\u001b[32m    523\u001b[39m writes = [w \u001b[38;5;28;01mfor\u001b[39;00m t \u001b[38;5;129;01min\u001b[39;00m \u001b[38;5;28mself\u001b[39m.tasks.values() \u001b[38;5;28;01mfor\u001b[39;00m w \u001b[38;5;129;01min\u001b[39;00m t.writes]\n\u001b[32m    524\u001b[39m \u001b[38;5;66;03m# all tasks have finished\u001b[39;00m\n\u001b[32m--> \u001b[39m\u001b[32m525\u001b[39m \u001b[38;5;28mself\u001b[39m.updated_channels = \u001b[43mapply_writes\u001b[49m\u001b[43m(\u001b[49m\n\u001b[32m    526\u001b[39m \u001b[43m    \u001b[49m\u001b[38;5;28;43mself\u001b[39;49m\u001b[43m.\u001b[49m\u001b[43mcheckpoint\u001b[49m\u001b[43m,\u001b[49m\n\u001b[32m    527\u001b[39m \u001b[43m    \u001b[49m\u001b[38;5;28;43mself\u001b[39;49m\u001b[43m.\u001b[49m\u001b[43mchannels\u001b[49m\u001b[43m,\u001b[49m\n\u001b[32m    528\u001b[39m \u001b[43m    \u001b[49m\u001b[38;5;28;43mself\u001b[39;49m\u001b[43m.\u001b[49m\u001b[43mtasks\u001b[49m\u001b[43m.\u001b[49m\u001b[43mvalues\u001b[49m\u001b[43m(\u001b[49m\u001b[43m)\u001b[49m\u001b[43m,\u001b[49m\n\u001b[32m    529\u001b[39m \u001b[43m    \u001b[49m\u001b[38;5;28;43mself\u001b[39;49m\u001b[43m.\u001b[49m\u001b[43mcheckpointer_get_next_version\u001b[49m\u001b[43m,\u001b[49m\n\u001b[32m    530\u001b[39m \u001b[43m    \u001b[49m\u001b[38;5;28;43mself\u001b[39;49m\u001b[43m.\u001b[49m\u001b[43mtrigger_to_nodes\u001b[49m\u001b[43m,\u001b[49m\n\u001b[32m    531\u001b[39m \u001b[43m\u001b[49m\u001b[43m)\u001b[49m\n\u001b[32m    532\u001b[39m \u001b[38;5;66;03m# produce values output\u001b[39;00m\n\u001b[32m    533\u001b[39m \u001b[38;5;28;01mif\u001b[39;00m \u001b[38;5;129;01mnot\u001b[39;00m \u001b[38;5;28mself\u001b[39m.updated_channels.isdisjoint(\n\u001b[32m    534\u001b[39m     (\u001b[38;5;28mself\u001b[39m.output_keys,)\n\u001b[32m    535\u001b[39m     \u001b[38;5;28;01mif\u001b[39;00m \u001b[38;5;28misinstance\u001b[39m(\u001b[38;5;28mself\u001b[39m.output_keys, \u001b[38;5;28mstr\u001b[39m)\n\u001b[32m    536\u001b[39m     \u001b[38;5;28;01melse\u001b[39;00m \u001b[38;5;28mself\u001b[39m.output_keys\n\u001b[32m    537\u001b[39m ):\n",
      "\u001b[36mFile \u001b[39m\u001b[32md:\\Projects\\LangGraph\\.venv\\Lib\\site-packages\\langgraph\\pregel\\_algo.py:295\u001b[39m, in \u001b[36mapply_writes\u001b[39m\u001b[34m(checkpoint, channels, tasks, get_next_version, trigger_to_nodes)\u001b[39m\n\u001b[32m    293\u001b[39m \u001b[38;5;28;01mfor\u001b[39;00m chan, vals \u001b[38;5;129;01min\u001b[39;00m pending_writes_by_channel.items():\n\u001b[32m    294\u001b[39m     \u001b[38;5;28;01mif\u001b[39;00m chan \u001b[38;5;129;01min\u001b[39;00m channels:\n\u001b[32m--> \u001b[39m\u001b[32m295\u001b[39m         \u001b[38;5;28;01mif\u001b[39;00m \u001b[43mchannels\u001b[49m\u001b[43m[\u001b[49m\u001b[43mchan\u001b[49m\u001b[43m]\u001b[49m\u001b[43m.\u001b[49m\u001b[43mupdate\u001b[49m\u001b[43m(\u001b[49m\u001b[43mvals\u001b[49m\u001b[43m)\u001b[49m \u001b[38;5;129;01mand\u001b[39;00m next_version \u001b[38;5;129;01mis\u001b[39;00m \u001b[38;5;129;01mnot\u001b[39;00m \u001b[38;5;28;01mNone\u001b[39;00m:\n\u001b[32m    296\u001b[39m             checkpoint[\u001b[33m\"\u001b[39m\u001b[33mchannel_versions\u001b[39m\u001b[33m\"\u001b[39m][chan] = next_version\n\u001b[32m    297\u001b[39m             \u001b[38;5;66;03m# unavailable channels can't trigger tasks, so don't add them\u001b[39;00m\n",
      "\u001b[36mFile \u001b[39m\u001b[32md:\\Projects\\LangGraph\\.venv\\Lib\\site-packages\\langgraph\\channels\\last_value.py:64\u001b[39m, in \u001b[36mLastValue.update\u001b[39m\u001b[34m(self, values)\u001b[39m\n\u001b[32m     59\u001b[39m \u001b[38;5;28;01mif\u001b[39;00m \u001b[38;5;28mlen\u001b[39m(values) != \u001b[32m1\u001b[39m:\n\u001b[32m     60\u001b[39m     msg = create_error_message(\n\u001b[32m     61\u001b[39m         message=\u001b[33mf\u001b[39m\u001b[33m\"\u001b[39m\u001b[33mAt key \u001b[39m\u001b[33m'\u001b[39m\u001b[38;5;132;01m{\u001b[39;00m\u001b[38;5;28mself\u001b[39m.key\u001b[38;5;132;01m}\u001b[39;00m\u001b[33m'\u001b[39m\u001b[33m: Can receive only one value per step. Use an Annotated key to handle multiple values.\u001b[39m\u001b[33m\"\u001b[39m,\n\u001b[32m     62\u001b[39m         error_code=ErrorCode.INVALID_CONCURRENT_GRAPH_UPDATE,\n\u001b[32m     63\u001b[39m     )\n\u001b[32m---> \u001b[39m\u001b[32m64\u001b[39m     \u001b[38;5;28;01mraise\u001b[39;00m InvalidUpdateError(msg)\n\u001b[32m     66\u001b[39m \u001b[38;5;28mself\u001b[39m.value = values[-\u001b[32m1\u001b[39m]\n\u001b[32m     67\u001b[39m \u001b[38;5;28;01mreturn\u001b[39;00m \u001b[38;5;28;01mTrue\u001b[39;00m\n",
      "\u001b[31mInvalidUpdateError\u001b[39m: At key 'runs': Can receive only one value per step. Use an Annotated key to handle multiple values.\nFor troubleshooting, visit: https://python.langchain.com/docs/troubleshooting/errors/INVALID_CONCURRENT_GRAPH_UPDATE"
     ]
    }
   ],
   "source": [
    "workflow.invoke(first_batsman)"
   ]
  },
  {
   "cell_type": "markdown",
   "id": "b2fd3310",
   "metadata": {},
   "source": [
    "> Now the problem is All the nodes are returning complete state again which is causing errors because everyone is sending same key and value.\n",
    "\n",
    "> Thus it thinks that enitre state is changing so we need to tell the node that which state we need to work on at a particular state.\n",
    "\n",
    "> Here we will use the concept of Reducer to Avoid this Simultaneous change. The solution is Rather than sending the entire state we will only return the state which we are working on\n"
   ]
  },
  {
   "cell_type": "code",
   "execution_count": 40,
   "id": "56f32fae",
   "metadata": {},
   "outputs": [],
   "source": [
    "def calculate_sr(state: BatsManState) -> BatsManState:\n",
    "    sr = (state[\"runs\"] / state[\"balls\"]) * 100\n",
    "\n",
    "    return {\"strike_rate\": sr}"
   ]
  },
  {
   "cell_type": "code",
   "execution_count": 32,
   "id": "90a6d03b",
   "metadata": {},
   "outputs": [],
   "source": [
    "def calculate_boundary_per_ball(state: BatsManState) -> BatsManState:\n",
    "    # Number of balls divide by number of 4s and 6s\n",
    "\n",
    "    bpb = state[\"balls\"] / (state[\"number_4s\"] + state[\"number_6s\"])\n",
    "\n",
    "    return {\"bound_per_ball\": bpb}\n"
   ]
  },
  {
   "cell_type": "code",
   "execution_count": 33,
   "id": "6184e9bb",
   "metadata": {},
   "outputs": [],
   "source": [
    "def calculate_boundary_percent(state: BatsManState) -> BatsManState:\n",
    "    # Total runs with 4s and 6s divide by total runs\n",
    "\n",
    "    boundary_percent = (\n",
    "        ((state[\"number_4s\"] * 4) + (state[\"number_6s\"] * 6)) / state[\"runs\"]\n",
    "    ) * 100\n",
    "\n",
    "    return {\"boundary_percent\": boundary_percent}"
   ]
  },
  {
   "cell_type": "code",
   "execution_count": 34,
   "id": "d627cf9d",
   "metadata": {},
   "outputs": [],
   "source": [
    "def summary(state: BatsManState) -> BatsManState:\n",
    "    summary = f\"\"\" \n",
    "    \n",
    "    Strike rate = {state[\"strike_rate\"]}\\n\n",
    "    Boundary Per Ball = {state[\"bound_per_ball\"]}\\n\n",
    "    Boundary Percent = {state[\"boundary_percent\"]}\\n\"\"\"\n",
    "\n",
    "    return {\"summary\": summary}"
   ]
  },
  {
   "cell_type": "markdown",
   "id": "5851a7e8",
   "metadata": {},
   "source": [
    "This technique is Called **Partial Update**.\n",
    "\n",
    "Rather than changing entire state we are Updating Concerning Values of the State at particular Node.\n"
   ]
  },
  {
   "cell_type": "code",
   "execution_count": 42,
   "id": "e8eb4c9d",
   "metadata": {},
   "outputs": [],
   "source": [
    "graph2 = StateGraph(BatsManState)"
   ]
  },
  {
   "cell_type": "code",
   "execution_count": 43,
   "id": "54121c65",
   "metadata": {},
   "outputs": [
    {
     "data": {
      "text/plain": [
       "<langgraph.graph.state.StateGraph at 0x293c7340a50>"
      ]
     },
     "execution_count": 43,
     "metadata": {},
     "output_type": "execute_result"
    }
   ],
   "source": [
    "# Add nodes\n",
    "\n",
    "graph2.add_node(\"get_strike_rate\", calculate_sr)\n",
    "graph2.add_node(\"get_boundaryPerBall\", calculate_boundary_per_ball)\n",
    "graph2.add_node(\"get_boundaryPerc\", calculate_boundary_percent)\n",
    "graph2.add_node(\"get_summary\", summary)"
   ]
  },
  {
   "cell_type": "code",
   "execution_count": 44,
   "id": "54528c2d",
   "metadata": {},
   "outputs": [
    {
     "data": {
      "text/plain": [
       "<langgraph.graph.state.StateGraph at 0x293c7340a50>"
      ]
     },
     "execution_count": 44,
     "metadata": {},
     "output_type": "execute_result"
    }
   ],
   "source": [
    "# Add edges\n",
    "\n",
    "# Parallel\n",
    "graph2.add_edge(START, \"get_strike_rate\")\n",
    "graph2.add_edge(START, \"get_boundaryPerBall\")\n",
    "graph2.add_edge(START, \"get_boundaryPerc\")\n",
    "\n",
    "# Agg2regation\n",
    "graph2.add_edge(\"get_strike_rate\", \"get_summary\")\n",
    "graph2.add_edge(\"get_boundaryPerBall\", \"get_summary\")\n",
    "graph2.add_edge(\"get_boundaryPerc\", \"get_summary\")\n",
    "\n",
    "# Las2t Result\n",
    "graph2.add_edge(\"get_summary\", END)"
   ]
  },
  {
   "cell_type": "code",
   "execution_count": 45,
   "id": "5de1c43b",
   "metadata": {},
   "outputs": [],
   "source": [
    "workflow2 = graph2.compile()"
   ]
  },
  {
   "cell_type": "code",
   "execution_count": 46,
   "id": "e9e7681d",
   "metadata": {},
   "outputs": [
    {
     "data": {
      "image/png": "[encoded data removed]",
      "text/plain": [
       "<langgraph.graph.state.CompiledStateGraph object at 0x00000293C7340550>"
      ]
     },
     "execution_count": 46,
     "metadata": {},
     "output_type": "execute_result"
    }
   ],
   "source": [
    "workflow2"
   ]
  },
  {
   "cell_type": "code",
   "execution_count": 47,
   "id": "4c1f375e",
   "metadata": {},
   "outputs": [],
   "source": [
    "second_batsman = {\n",
    "    \"runs\": 120,\n",
    "    \"balls\": 50,\n",
    "    \"number_4s\": 14,\n",
    "    \"number_6s\": 8,\n",
    "}"
   ]
  },
  {
   "cell_type": "code",
   "execution_count": 48,
   "id": "d96a20e1",
   "metadata": {},
   "outputs": [
    {
     "data": {
      "text/plain": [
       "{'runs': 120,\n",
       " 'balls': 50,\n",
       " 'number_4s': 14,\n",
       " 'number_6s': 8,\n",
       " 'strike_rate': 240.0,\n",
       " 'bound_per_ball': 2.272727272727273,\n",
       " 'boundary_percent': 86.66666666666667,\n",
       " 'summary': ' \\n\\n    Strike rate = 240.0\\n\\n    Boundary Per Ball = 2.272727272727273\\n\\n    Boundary Percent = 86.66666666666667\\n'}"
      ]
     },
     "execution_count": 48,
     "metadata": {},
     "output_type": "execute_result"
    }
   ],
   "source": [
    "workflow2.invoke(second_batsman)"
   ]
  },
  {
   "cell_type": "markdown",
   "id": "6d2c1ee1",
   "metadata": {},
   "source": [
    "The question is Which One to Use.\n",
    "\n",
    "The Partial State Update is Better Approach Because it works Every Where\n"
   ]
  },
  {
   "cell_type": "markdown",
   "id": "ee6ecb27",
   "metadata": {},
   "source": []
  }
 ],
 "metadata": {
  "kernelspec": {
   "display_name": "LangGraph (3.13.7)",
   "language": "python",
   "name": "python3"
  },
  "language_info": {
   "codemirror_mode": {
    "name": "ipython",
    "version": 3
   },
   "file_extension": ".py",
   "mimetype": "text/x-python",
   "name": "python",
   "nbconvert_exporter": "python",
   "pygments_lexer": "ipython3",
   "version": "3.13.7"
  }
 },
 "nbformat": 4,
 "nbformat_minor": 5
}
