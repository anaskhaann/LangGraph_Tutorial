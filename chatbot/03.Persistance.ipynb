{
 "cells": [
  {
   "cell_type": "code",
   "execution_count": 11,
   "id": "3437b111",
   "metadata": {},
   "outputs": [],
   "source": [
    "from langgraph.graph import StateGraph, START, END\n",
    "from typing import TypedDict\n",
    "from langchain_groq import ChatGroq\n",
    "from dotenv import load_dotenv\n",
    "from langgraph.checkpoint.memory import InMemorySaver"
   ]
  },
  {
   "cell_type": "code",
   "execution_count": 12,
   "id": "1aad4cf4",
   "metadata": {},
   "outputs": [
    {
     "data": {
      "text/plain": [
       "True"
      ]
     },
     "execution_count": 12,
     "metadata": {},
     "output_type": "execute_result"
    }
   ],
   "source": [
    "load_dotenv()"
   ]
  },
  {
   "cell_type": "code",
   "execution_count": 13,
   "id": "1faafb4b",
   "metadata": {},
   "outputs": [],
   "source": [
    "llm = ChatGroq(model=\"llama-3.1-8b-instant\")"
   ]
  },
  {
   "cell_type": "code",
   "execution_count": 14,
   "id": "a004c90b",
   "metadata": {},
   "outputs": [],
   "source": [
    "# State for Jokes\n",
    "\n",
    "\n",
    "class JokeState(TypedDict):\n",
    "    topic: str\n",
    "    joke: str\n",
    "    explaination: str"
   ]
  },
  {
   "cell_type": "code",
   "execution_count": 15,
   "id": "58372618",
   "metadata": {},
   "outputs": [],
   "source": [
    "# Generate the Joke on the Topic(Node)\n",
    "def get_joke(state: JokeState):\n",
    "    # get topic\n",
    "    topic = state[\"topic\"]\n",
    "\n",
    "    # generate prompt\n",
    "    prompt = f\"Generate a Small Joke on Topic: {topic}\"\n",
    "\n",
    "    response = llm.invoke(prompt).content\n",
    "\n",
    "    return {\"joke\": response}\n",
    "\n",
    "\n",
    "# Generate Explaination of the Joke(Node)\n",
    "def explain_joke(state: JokeState):\n",
    "    # get joke\n",
    "    joke = state[\"joke\"]\n",
    "\n",
    "    # generate prompt\n",
    "    prompt = f\"Understand and Explain the provided joke in simple words.\\n{joke}\"\n",
    "\n",
    "    response = llm.invoke(prompt).content\n",
    "\n",
    "    return {\"explaination\": response}"
   ]
  },
  {
   "cell_type": "code",
   "execution_count": 16,
   "id": "d2d0de41",
   "metadata": {},
   "outputs": [],
   "source": [
    "graph = StateGraph(JokeState)"
   ]
  },
  {
   "cell_type": "code",
   "execution_count": 17,
   "id": "218d2a43",
   "metadata": {},
   "outputs": [
    {
     "data": {
      "text/plain": [
       "<langgraph.graph.state.StateGraph at 0x261849fd810>"
      ]
     },
     "execution_count": 17,
     "metadata": {},
     "output_type": "execute_result"
    }
   ],
   "source": [
    "# add nodes\n",
    "graph.add_node(\"generate_joke\", get_joke)\n",
    "graph.add_node(\"explain_joke\", explain_joke)\n",
    "\n",
    "# Add Edges\n",
    "graph.add_edge(START, \"generate_joke\")\n",
    "graph.add_edge(\"generate_joke\", \"explain_joke\")\n",
    "graph.add_edge(\"explain_joke\", END)"
   ]
  },
  {
   "cell_type": "markdown",
   "id": "1144a0c1",
   "metadata": {},
   "source": [
    "> Here we will make the checkpointer and during compiling pass the checkpointer which we are using\n"
   ]
  },
  {
   "cell_type": "code",
   "execution_count": 18,
   "id": "6793e4e6",
   "metadata": {},
   "outputs": [],
   "source": [
    "# Checkpointer\n",
    "checkpoints = InMemorySaver()\n",
    "\n",
    "# Pass the checkpointer to graph\n",
    "\n",
    "workflow = graph.compile(checkpointer=checkpoints)"
   ]
  },
  {
   "cell_type": "code",
   "execution_count": 19,
   "id": "d2b939af",
   "metadata": {},
   "outputs": [
    {
     "data": {
      "image/png": "[encoded data removed]",
      "text/plain": [
       "<langgraph.graph.state.CompiledStateGraph object at 0x000002618485ECF0>"
      ]
     },
     "execution_count": 19,
     "metadata": {},
     "output_type": "execute_result"
    }
   ],
   "source": [
    "workflow"
   ]
  },
  {
   "cell_type": "markdown",
   "id": "9f0b9192",
   "metadata": {},
   "source": [
    "> During the time of Invoke pass the Unique Thread id.\n",
    "\n",
    "The thread id is made using `configurable mapping of thread` which can be stored to some variable and pass during invoke\n"
   ]
  },
  {
   "cell_type": "code",
   "execution_count": 20,
   "id": "f25ee2df",
   "metadata": {},
   "outputs": [],
   "source": [
    "# This is how to define configurable mapping\n",
    "config1 = {\"configurable\": {\"thread_id\": \"1\"}}"
   ]
  },
  {
   "cell_type": "code",
   "execution_count": 21,
   "id": "2c49be6c",
   "metadata": {},
   "outputs": [
    {
     "data": {
      "text/plain": [
       "{'topic': 'Indian Economy',\n",
       " 'joke': 'Why did the Indian Rupee go to therapy?\\n\\nBecause it was feeling a little \"devalued\"!',\n",
       " 'explaination': 'The joke is about the Indian Rupee (the currency of India) going to therapy. \\n\\nIn simple words, the punchline \"feeling a little \\'devalued\\'\" has a double meaning. \\n\\n1. \\'Devalued\\' means when a currency loses its value or becomes less strong. This is often a financial term.\\n2. \\'Devalued\\' also means feeling not valued or appreciated, which is a common problem people face in therapy.\\n\\nSo, the joke is saying that the Rupee went to therapy because it was feeling not valued or appreciated (like a person would), but also because its value was actually decreasing (like a financial term). It\\'s a play on words, making it a funny joke.'}"
      ]
     },
     "execution_count": 21,
     "metadata": {},
     "output_type": "execute_result"
    }
   ],
   "source": [
    "workflow.invoke({\"topic\": \"Indian Economy\"}, config=config1)"
   ]
  },
  {
   "cell_type": "code",
   "execution_count": 22,
   "id": "34a5d248",
   "metadata": {},
   "outputs": [
    {
     "data": {
      "text/plain": [
       "StateSnapshot(values={'topic': 'Indian Economy', 'joke': 'Why did the Indian Rupee go to therapy?\\n\\nBecause it was feeling a little \"devalued\"!', 'explaination': 'The joke is about the Indian Rupee (the currency of India) going to therapy. \\n\\nIn simple words, the punchline \"feeling a little \\'devalued\\'\" has a double meaning. \\n\\n1. \\'Devalued\\' means when a currency loses its value or becomes less strong. This is often a financial term.\\n2. \\'Devalued\\' also means feeling not valued or appreciated, which is a common problem people face in therapy.\\n\\nSo, the joke is saying that the Rupee went to therapy because it was feeling not valued or appreciated (like a person would), but also because its value was actually decreasing (like a financial term). It\\'s a play on words, making it a funny joke.'}, next=(), config={'configurable': {'thread_id': '1', 'checkpoint_ns': '', 'checkpoint_id': '1f092de9-6bac-6033-8002-a93ee0d7dd38'}}, metadata={'source': 'loop', 'step': 2, 'parents': {}}, created_at='2025-09-16T09:21:55.770155+00:00', parent_config={'configurable': {'thread_id': '1', 'checkpoint_ns': '', 'checkpoint_id': '1f092de9-682e-68e9-8001-cd25895ef538'}}, tasks=(), interrupts=())"
      ]
     },
     "execution_count": 22,
     "metadata": {},
     "output_type": "execute_result"
    }
   ],
   "source": [
    "# To get the states of that thread\n",
    "workflow.get_state(config1)"
   ]
  },
  {
   "cell_type": "code",
   "execution_count": 25,
   "id": "80f1b478",
   "metadata": {},
   "outputs": [
    {
     "data": {
      "text/plain": [
       "[StateSnapshot(values={'topic': 'Indian Economy', 'joke': 'Why did the Indian Rupee go to therapy?\\n\\nBecause it was feeling a little \"devalued\"!', 'explaination': 'The joke is about the Indian Rupee (the currency of India) going to therapy. \\n\\nIn simple words, the punchline \"feeling a little \\'devalued\\'\" has a double meaning. \\n\\n1. \\'Devalued\\' means when a currency loses its value or becomes less strong. This is often a financial term.\\n2. \\'Devalued\\' also means feeling not valued or appreciated, which is a common problem people face in therapy.\\n\\nSo, the joke is saying that the Rupee went to therapy because it was feeling not valued or appreciated (like a person would), but also because its value was actually decreasing (like a financial term). It\\'s a play on words, making it a funny joke.'}, next=(), config={'configurable': {'thread_id': '1', 'checkpoint_ns': '', 'checkpoint_id': '1f092de9-6bac-6033-8002-a93ee0d7dd38'}}, metadata={'source': 'loop', 'step': 2, 'parents': {}}, created_at='2025-09-16T09:21:55.770155+00:00', parent_config={'configurable': {'thread_id': '1', 'checkpoint_ns': '', 'checkpoint_id': '1f092de9-682e-68e9-8001-cd25895ef538'}}, tasks=(), interrupts=()),\n",
       " StateSnapshot(values={'topic': 'Indian Economy', 'joke': 'Why did the Indian Rupee go to therapy?\\n\\nBecause it was feeling a little \"devalued\"!'}, next=('explain_joke',), config={'configurable': {'thread_id': '1', 'checkpoint_ns': '', 'checkpoint_id': '1f092de9-682e-68e9-8001-cd25895ef538'}}, metadata={'source': 'loop', 'step': 1, 'parents': {}}, created_at='2025-09-16T09:21:55.404193+00:00', parent_config={'configurable': {'thread_id': '1', 'checkpoint_ns': '', 'checkpoint_id': '1f092de9-664f-6255-8000-924eed585913'}}, tasks=(PregelTask(id='26da95fa-4d58-3d24-2ce8-bacf586c14ec', name='explain_joke', path=('__pregel_pull', 'explain_joke'), error=None, interrupts=(), state=None, result={'explaination': 'The joke is about the Indian Rupee (the currency of India) going to therapy. \\n\\nIn simple words, the punchline \"feeling a little \\'devalued\\'\" has a double meaning. \\n\\n1. \\'Devalued\\' means when a currency loses its value or becomes less strong. This is often a financial term.\\n2. \\'Devalued\\' also means feeling not valued or appreciated, which is a common problem people face in therapy.\\n\\nSo, the joke is saying that the Rupee went to therapy because it was feeling not valued or appreciated (like a person would), but also because its value was actually decreasing (like a financial term). It\\'s a play on words, making it a funny joke.'}),), interrupts=()),\n",
       " StateSnapshot(values={'topic': 'Indian Economy'}, next=('generate_joke',), config={'configurable': {'thread_id': '1', 'checkpoint_ns': '', 'checkpoint_id': '1f092de9-664f-6255-8000-924eed585913'}}, metadata={'source': 'loop', 'step': 0, 'parents': {}}, created_at='2025-09-16T09:21:55.207778+00:00', parent_config={'configurable': {'thread_id': '1', 'checkpoint_ns': '', 'checkpoint_id': '1f092de9-6646-6487-bfff-7065d2432178'}}, tasks=(PregelTask(id='77465817-9c12-7087-225b-37f48195eb6e', name='generate_joke', path=('__pregel_pull', 'generate_joke'), error=None, interrupts=(), state=None, result={'joke': 'Why did the Indian Rupee go to therapy?\\n\\nBecause it was feeling a little \"devalued\"!'}),), interrupts=()),\n",
       " StateSnapshot(values={}, next=('__start__',), config={'configurable': {'thread_id': '1', 'checkpoint_ns': '', 'checkpoint_id': '1f092de9-6646-6487-bfff-7065d2432178'}}, metadata={'source': 'input', 'step': -1, 'parents': {}}, created_at='2025-09-16T09:21:55.204181+00:00', parent_config=None, tasks=(PregelTask(id='cb3d1ec0-64fa-2602-8ad4-f784afc3f770', name='__start__', path=('__pregel_pull', '__start__'), error=None, interrupts=(), state=None, result={'topic': 'Indian Economy'}),), interrupts=())]"
      ]
     },
     "execution_count": 25,
     "metadata": {},
     "output_type": "execute_result"
    }
   ],
   "source": [
    "# All intermediate state values can be seen using history by passing thread Id\n",
    "list(workflow.get_state_history(config1))"
   ]
  },
  {
   "cell_type": "code",
   "execution_count": 27,
   "id": "f4e5f962",
   "metadata": {},
   "outputs": [
    {
     "data": {
      "text/plain": [
       "4"
      ]
     },
     "execution_count": 27,
     "metadata": {},
     "output_type": "execute_result"
    }
   ],
   "source": [
    "len(list(workflow.get_state_history(config1)))"
   ]
  },
  {
   "cell_type": "markdown",
   "id": "3a765269",
   "metadata": {},
   "source": [
    "**Here we are getting 4 Values**\n",
    "\n",
    "1. **State value before START**\n",
    "2. **State value after start and before generating joke**\n",
    "3. **State value after generating joke and before explaination**\n",
    "4. **State value after explaination and before END**\n"
   ]
  },
  {
   "cell_type": "code",
   "execution_count": 28,
   "id": "fb4319b2",
   "metadata": {},
   "outputs": [
    {
     "name": "stdout",
     "output_type": "stream",
     "text": [
      "==================================================\n",
      "StateSnapshot(values={'topic': 'Indian Economy', 'joke': 'Why did the Indian Rupee go to therapy?\\n\\nBecause it was feeling a little \"devalued\"!', 'explaination': 'The joke is about the Indian Rupee (the currency of India) going to therapy. \\n\\nIn simple words, the punchline \"feeling a little \\'devalued\\'\" has a double meaning. \\n\\n1. \\'Devalued\\' means when a currency loses its value or becomes less strong. This is often a financial term.\\n2. \\'Devalued\\' also means feeling not valued or appreciated, which is a common problem people face in therapy.\\n\\nSo, the joke is saying that the Rupee went to therapy because it was feeling not valued or appreciated (like a person would), but also because its value was actually decreasing (like a financial term). It\\'s a play on words, making it a funny joke.'}, next=(), config={'configurable': {'thread_id': '1', 'checkpoint_ns': '', 'checkpoint_id': '1f092de9-6bac-6033-8002-a93ee0d7dd38'}}, metadata={'source': 'loop', 'step': 2, 'parents': {}}, created_at='2025-09-16T09:21:55.770155+00:00', parent_config={'configurable': {'thread_id': '1', 'checkpoint_ns': '', 'checkpoint_id': '1f092de9-682e-68e9-8001-cd25895ef538'}}, tasks=(), interrupts=())\n",
      "==================================================\n",
      "StateSnapshot(values={'topic': 'Indian Economy', 'joke': 'Why did the Indian Rupee go to therapy?\\n\\nBecause it was feeling a little \"devalued\"!'}, next=('explain_joke',), config={'configurable': {'thread_id': '1', 'checkpoint_ns': '', 'checkpoint_id': '1f092de9-682e-68e9-8001-cd25895ef538'}}, metadata={'source': 'loop', 'step': 1, 'parents': {}}, created_at='2025-09-16T09:21:55.404193+00:00', parent_config={'configurable': {'thread_id': '1', 'checkpoint_ns': '', 'checkpoint_id': '1f092de9-664f-6255-8000-924eed585913'}}, tasks=(PregelTask(id='26da95fa-4d58-3d24-2ce8-bacf586c14ec', name='explain_joke', path=('__pregel_pull', 'explain_joke'), error=None, interrupts=(), state=None, result={'explaination': 'The joke is about the Indian Rupee (the currency of India) going to therapy. \\n\\nIn simple words, the punchline \"feeling a little \\'devalued\\'\" has a double meaning. \\n\\n1. \\'Devalued\\' means when a currency loses its value or becomes less strong. This is often a financial term.\\n2. \\'Devalued\\' also means feeling not valued or appreciated, which is a common problem people face in therapy.\\n\\nSo, the joke is saying that the Rupee went to therapy because it was feeling not valued or appreciated (like a person would), but also because its value was actually decreasing (like a financial term). It\\'s a play on words, making it a funny joke.'}),), interrupts=())\n",
      "==================================================\n",
      "StateSnapshot(values={'topic': 'Indian Economy'}, next=('generate_joke',), config={'configurable': {'thread_id': '1', 'checkpoint_ns': '', 'checkpoint_id': '1f092de9-664f-6255-8000-924eed585913'}}, metadata={'source': 'loop', 'step': 0, 'parents': {}}, created_at='2025-09-16T09:21:55.207778+00:00', parent_config={'configurable': {'thread_id': '1', 'checkpoint_ns': '', 'checkpoint_id': '1f092de9-6646-6487-bfff-7065d2432178'}}, tasks=(PregelTask(id='77465817-9c12-7087-225b-37f48195eb6e', name='generate_joke', path=('__pregel_pull', 'generate_joke'), error=None, interrupts=(), state=None, result={'joke': 'Why did the Indian Rupee go to therapy?\\n\\nBecause it was feeling a little \"devalued\"!'}),), interrupts=())\n",
      "==================================================\n",
      "StateSnapshot(values={}, next=('__start__',), config={'configurable': {'thread_id': '1', 'checkpoint_ns': '', 'checkpoint_id': '1f092de9-6646-6487-bfff-7065d2432178'}}, metadata={'source': 'input', 'step': -1, 'parents': {}}, created_at='2025-09-16T09:21:55.204181+00:00', parent_config=None, tasks=(PregelTask(id='cb3d1ec0-64fa-2602-8ad4-f784afc3f770', name='__start__', path=('__pregel_pull', '__start__'), error=None, interrupts=(), state=None, result={'topic': 'Indian Economy'}),), interrupts=())\n"
     ]
    }
   ],
   "source": [
    "for i in list(workflow.get_state_history(config1)):\n",
    "    print(\"=\" * 50)\n",
    "    print(i)"
   ]
  },
  {
   "cell_type": "markdown",
   "id": "8a073042",
   "metadata": {},
   "source": [
    "**Now lets Increase Thread and see the individual Threads**\n"
   ]
  },
  {
   "cell_type": "code",
   "execution_count": 29,
   "id": "d5df429b",
   "metadata": {},
   "outputs": [
    {
     "data": {
      "text/plain": [
       "{'topic': 'Bhojpuri Cinema',\n",
       " 'joke': 'Why did the Bhojpuri film actor bring a ladder to the movie set?\\n\\nBecause his action scenes were always \"up\" to a higher level.',\n",
       " 'explaination': \"This joke is a play on words. \\n\\n- 'Up' has a double meaning here. \\n  1. It means higher in a physical sense, like a ladder helps you climb up.\\n  2. It also means 'excellent' or 'of high quality', like action scenes being 'up' to a higher level, meaning very good.\\n\\nSo, the joke is saying that the Bhojpuri film actor's action scenes are always of a very high quality (up to a higher level) and he brought a ladder to the movie set, which is a pun on the double meaning of the word 'up'.\"}"
      ]
     },
     "execution_count": 29,
     "metadata": {},
     "output_type": "execute_result"
    }
   ],
   "source": [
    "config2 = {\"configurable\": {\"thread_id\": \"2\"}}\n",
    "\n",
    "workflow.invoke({\"topic\": \"Bhojpuri Cinema\"}, config=config2)"
   ]
  },
  {
   "cell_type": "code",
   "execution_count": 30,
   "id": "2cd4ebf7",
   "metadata": {},
   "outputs": [
    {
     "data": {
      "text/plain": [
       "StateSnapshot(values={'topic': 'Bhojpuri Cinema', 'joke': 'Why did the Bhojpuri film actor bring a ladder to the movie set?\\n\\nBecause his action scenes were always \"up\" to a higher level.', 'explaination': \"This joke is a play on words. \\n\\n- 'Up' has a double meaning here. \\n  1. It means higher in a physical sense, like a ladder helps you climb up.\\n  2. It also means 'excellent' or 'of high quality', like action scenes being 'up' to a higher level, meaning very good.\\n\\nSo, the joke is saying that the Bhojpuri film actor's action scenes are always of a very high quality (up to a higher level) and he brought a ladder to the movie set, which is a pun on the double meaning of the word 'up'.\"}, next=(), config={'configurable': {'thread_id': '2', 'checkpoint_ns': '', 'checkpoint_id': '1f092df8-f5b0-608d-8002-778f2246e952'}}, metadata={'source': 'loop', 'step': 2, 'parents': {}}, created_at='2025-09-16T09:28:52.895334+00:00', parent_config={'configurable': {'thread_id': '2', 'checkpoint_ns': '', 'checkpoint_id': '1f092df8-f2ad-6c2c-8001-067ea70fd30e'}}, tasks=(), interrupts=())"
      ]
     },
     "execution_count": 30,
     "metadata": {},
     "output_type": "execute_result"
    }
   ],
   "source": [
    "workflow.get_state(config2)"
   ]
  },
  {
   "cell_type": "code",
   "execution_count": 32,
   "id": "5da2adba",
   "metadata": {},
   "outputs": [
    {
     "data": {
      "text/plain": [
       "[StateSnapshot(values={'topic': 'Bhojpuri Cinema', 'joke': 'Why did the Bhojpuri film actor bring a ladder to the movie set?\\n\\nBecause his action scenes were always \"up\" to a higher level.', 'explaination': \"This joke is a play on words. \\n\\n- 'Up' has a double meaning here. \\n  1. It means higher in a physical sense, like a ladder helps you climb up.\\n  2. It also means 'excellent' or 'of high quality', like action scenes being 'up' to a higher level, meaning very good.\\n\\nSo, the joke is saying that the Bhojpuri film actor's action scenes are always of a very high quality (up to a higher level) and he brought a ladder to the movie set, which is a pun on the double meaning of the word 'up'.\"}, next=(), config={'configurable': {'thread_id': '2', 'checkpoint_ns': '', 'checkpoint_id': '1f092df8-f5b0-608d-8002-778f2246e952'}}, metadata={'source': 'loop', 'step': 2, 'parents': {}}, created_at='2025-09-16T09:28:52.895334+00:00', parent_config={'configurable': {'thread_id': '2', 'checkpoint_ns': '', 'checkpoint_id': '1f092df8-f2ad-6c2c-8001-067ea70fd30e'}}, tasks=(), interrupts=()),\n",
       " StateSnapshot(values={'topic': 'Bhojpuri Cinema', 'joke': 'Why did the Bhojpuri film actor bring a ladder to the movie set?\\n\\nBecause his action scenes were always \"up\" to a higher level.'}, next=('explain_joke',), config={'configurable': {'thread_id': '2', 'checkpoint_ns': '', 'checkpoint_id': '1f092df8-f2ad-6c2c-8001-067ea70fd30e'}}, metadata={'source': 'loop', 'step': 1, 'parents': {}}, created_at='2025-09-16T09:28:52.579831+00:00', parent_config={'configurable': {'thread_id': '2', 'checkpoint_ns': '', 'checkpoint_id': '1f092df8-f04c-6746-8000-5f9ae1bd42cd'}}, tasks=(PregelTask(id='49160f54-5523-d834-ae75-a7be8ee18c31', name='explain_joke', path=('__pregel_pull', 'explain_joke'), error=None, interrupts=(), state=None, result={'explaination': \"This joke is a play on words. \\n\\n- 'Up' has a double meaning here. \\n  1. It means higher in a physical sense, like a ladder helps you climb up.\\n  2. It also means 'excellent' or 'of high quality', like action scenes being 'up' to a higher level, meaning very good.\\n\\nSo, the joke is saying that the Bhojpuri film actor's action scenes are always of a very high quality (up to a higher level) and he brought a ladder to the movie set, which is a pun on the double meaning of the word 'up'.\"}),), interrupts=()),\n",
       " StateSnapshot(values={'topic': 'Bhojpuri Cinema'}, next=('generate_joke',), config={'configurable': {'thread_id': '2', 'checkpoint_ns': '', 'checkpoint_id': '1f092df8-f04c-6746-8000-5f9ae1bd42cd'}}, metadata={'source': 'loop', 'step': 0, 'parents': {}}, created_at='2025-09-16T09:28:52.330262+00:00', parent_config={'configurable': {'thread_id': '2', 'checkpoint_ns': '', 'checkpoint_id': '1f092df8-f04a-6755-bfff-98074eb73220'}}, tasks=(PregelTask(id='d015c032-1f4c-8658-93a9-0963f76dfb4e', name='generate_joke', path=('__pregel_pull', 'generate_joke'), error=None, interrupts=(), state=None, result={'joke': 'Why did the Bhojpuri film actor bring a ladder to the movie set?\\n\\nBecause his action scenes were always \"up\" to a higher level.'}),), interrupts=()),\n",
       " StateSnapshot(values={}, next=('__start__',), config={'configurable': {'thread_id': '2', 'checkpoint_ns': '', 'checkpoint_id': '1f092df8-f04a-6755-bfff-98074eb73220'}}, metadata={'source': 'input', 'step': -1, 'parents': {}}, created_at='2025-09-16T09:28:52.329445+00:00', parent_config=None, tasks=(PregelTask(id='3986dc29-f348-70ec-279e-20870cda2282', name='__start__', path=('__pregel_pull', '__start__'), error=None, interrupts=(), state=None, result={'topic': 'Bhojpuri Cinema'}),), interrupts=())]"
      ]
     },
     "execution_count": 32,
     "metadata": {},
     "output_type": "execute_result"
    }
   ],
   "source": [
    "list(workflow.get_state_history(config2))"
   ]
  },
  {
   "cell_type": "code",
   "execution_count": 33,
   "id": "803ebe03",
   "metadata": {},
   "outputs": [
    {
     "data": {
      "text/plain": [
       "4"
      ]
     },
     "execution_count": 33,
     "metadata": {},
     "output_type": "execute_result"
    }
   ],
   "source": [
    "len(list(workflow.get_state_history(config2)))"
   ]
  },
  {
   "cell_type": "code",
   "execution_count": 34,
   "id": "e4cb8535",
   "metadata": {},
   "outputs": [
    {
     "name": "stdout",
     "output_type": "stream",
     "text": [
      "============================================================\n",
      "StateSnapshot(values={'topic': 'Bhojpuri Cinema', 'joke': 'Why did the Bhojpuri film actor bring a ladder to the movie set?\\n\\nBecause his action scenes were always \"up\" to a higher level.', 'explaination': \"This joke is a play on words. \\n\\n- 'Up' has a double meaning here. \\n  1. It means higher in a physical sense, like a ladder helps you climb up.\\n  2. It also means 'excellent' or 'of high quality', like action scenes being 'up' to a higher level, meaning very good.\\n\\nSo, the joke is saying that the Bhojpuri film actor's action scenes are always of a very high quality (up to a higher level) and he brought a ladder to the movie set, which is a pun on the double meaning of the word 'up'.\"}, next=(), config={'configurable': {'thread_id': '2', 'checkpoint_ns': '', 'checkpoint_id': '1f092df8-f5b0-608d-8002-778f2246e952'}}, metadata={'source': 'loop', 'step': 2, 'parents': {}}, created_at='2025-09-16T09:28:52.895334+00:00', parent_config={'configurable': {'thread_id': '2', 'checkpoint_ns': '', 'checkpoint_id': '1f092df8-f2ad-6c2c-8001-067ea70fd30e'}}, tasks=(), interrupts=())\n",
      "============================================================\n",
      "StateSnapshot(values={'topic': 'Bhojpuri Cinema', 'joke': 'Why did the Bhojpuri film actor bring a ladder to the movie set?\\n\\nBecause his action scenes were always \"up\" to a higher level.'}, next=('explain_joke',), config={'configurable': {'thread_id': '2', 'checkpoint_ns': '', 'checkpoint_id': '1f092df8-f2ad-6c2c-8001-067ea70fd30e'}}, metadata={'source': 'loop', 'step': 1, 'parents': {}}, created_at='2025-09-16T09:28:52.579831+00:00', parent_config={'configurable': {'thread_id': '2', 'checkpoint_ns': '', 'checkpoint_id': '1f092df8-f04c-6746-8000-5f9ae1bd42cd'}}, tasks=(PregelTask(id='49160f54-5523-d834-ae75-a7be8ee18c31', name='explain_joke', path=('__pregel_pull', 'explain_joke'), error=None, interrupts=(), state=None, result={'explaination': \"This joke is a play on words. \\n\\n- 'Up' has a double meaning here. \\n  1. It means higher in a physical sense, like a ladder helps you climb up.\\n  2. It also means 'excellent' or 'of high quality', like action scenes being 'up' to a higher level, meaning very good.\\n\\nSo, the joke is saying that the Bhojpuri film actor's action scenes are always of a very high quality (up to a higher level) and he brought a ladder to the movie set, which is a pun on the double meaning of the word 'up'.\"}),), interrupts=())\n",
      "============================================================\n",
      "StateSnapshot(values={'topic': 'Bhojpuri Cinema'}, next=('generate_joke',), config={'configurable': {'thread_id': '2', 'checkpoint_ns': '', 'checkpoint_id': '1f092df8-f04c-6746-8000-5f9ae1bd42cd'}}, metadata={'source': 'loop', 'step': 0, 'parents': {}}, created_at='2025-09-16T09:28:52.330262+00:00', parent_config={'configurable': {'thread_id': '2', 'checkpoint_ns': '', 'checkpoint_id': '1f092df8-f04a-6755-bfff-98074eb73220'}}, tasks=(PregelTask(id='d015c032-1f4c-8658-93a9-0963f76dfb4e', name='generate_joke', path=('__pregel_pull', 'generate_joke'), error=None, interrupts=(), state=None, result={'joke': 'Why did the Bhojpuri film actor bring a ladder to the movie set?\\n\\nBecause his action scenes were always \"up\" to a higher level.'}),), interrupts=())\n",
      "============================================================\n",
      "StateSnapshot(values={}, next=('__start__',), config={'configurable': {'thread_id': '2', 'checkpoint_ns': '', 'checkpoint_id': '1f092df8-f04a-6755-bfff-98074eb73220'}}, metadata={'source': 'input', 'step': -1, 'parents': {}}, created_at='2025-09-16T09:28:52.329445+00:00', parent_config=None, tasks=(PregelTask(id='3986dc29-f348-70ec-279e-20870cda2282', name='__start__', path=('__pregel_pull', '__start__'), error=None, interrupts=(), state=None, result={'topic': 'Bhojpuri Cinema'}),), interrupts=())\n"
     ]
    }
   ],
   "source": [
    "for i in list(workflow.get_state_history(config2)):\n",
    "    print(\"=\" * 60)\n",
    "    print(i)"
   ]
  },
  {
   "cell_type": "code",
   "execution_count": null,
   "id": "2f6a1b26",
   "metadata": {},
   "outputs": [],
   "source": [
    "a = list(workflow.get_state_history(config1))\n",
    "b = list(workflow.get_state_history(config2))"
   ]
  },
  {
   "cell_type": "code",
   "execution_count": 38,
   "id": "7cc74c51",
   "metadata": {},
   "outputs": [
    {
     "name": "stdout",
     "output_type": "stream",
     "text": [
      "This is First Interaction\n",
      "====================================================================================================\n",
      "[StateSnapshot(values={'topic': 'Indian Economy', 'joke': 'Why did the Indian Rupee go to therapy?\\n\\nBecause it was feeling a little \"devalued\"!', 'explaination': 'The joke is about the Indian Rupee (the currency of India) going to therapy. \\n\\nIn simple words, the punchline \"feeling a little \\'devalued\\'\" has a double meaning. \\n\\n1. \\'Devalued\\' means when a currency loses its value or becomes less strong. This is often a financial term.\\n2. \\'Devalued\\' also means feeling not valued or appreciated, which is a common problem people face in therapy.\\n\\nSo, the joke is saying that the Rupee went to therapy because it was feeling not valued or appreciated (like a person would), but also because its value was actually decreasing (like a financial term). It\\'s a play on words, making it a funny joke.'}, next=(), config={'configurable': {'thread_id': '1', 'checkpoint_ns': '', 'checkpoint_id': '1f092de9-6bac-6033-8002-a93ee0d7dd38'}}, metadata={'source': 'loop', 'step': 2, 'parents': {}}, created_at='2025-09-16T09:21:55.770155+00:00', parent_config={'configurable': {'thread_id': '1', 'checkpoint_ns': '', 'checkpoint_id': '1f092de9-682e-68e9-8001-cd25895ef538'}}, tasks=(), interrupts=()), StateSnapshot(values={'topic': 'Indian Economy', 'joke': 'Why did the Indian Rupee go to therapy?\\n\\nBecause it was feeling a little \"devalued\"!'}, next=('explain_joke',), config={'configurable': {'thread_id': '1', 'checkpoint_ns': '', 'checkpoint_id': '1f092de9-682e-68e9-8001-cd25895ef538'}}, metadata={'source': 'loop', 'step': 1, 'parents': {}}, created_at='2025-09-16T09:21:55.404193+00:00', parent_config={'configurable': {'thread_id': '1', 'checkpoint_ns': '', 'checkpoint_id': '1f092de9-664f-6255-8000-924eed585913'}}, tasks=(PregelTask(id='26da95fa-4d58-3d24-2ce8-bacf586c14ec', name='explain_joke', path=('__pregel_pull', 'explain_joke'), error=None, interrupts=(), state=None, result={'explaination': 'The joke is about the Indian Rupee (the currency of India) going to therapy. \\n\\nIn simple words, the punchline \"feeling a little \\'devalued\\'\" has a double meaning. \\n\\n1. \\'Devalued\\' means when a currency loses its value or becomes less strong. This is often a financial term.\\n2. \\'Devalued\\' also means feeling not valued or appreciated, which is a common problem people face in therapy.\\n\\nSo, the joke is saying that the Rupee went to therapy because it was feeling not valued or appreciated (like a person would), but also because its value was actually decreasing (like a financial term). It\\'s a play on words, making it a funny joke.'}),), interrupts=()), StateSnapshot(values={'topic': 'Indian Economy'}, next=('generate_joke',), config={'configurable': {'thread_id': '1', 'checkpoint_ns': '', 'checkpoint_id': '1f092de9-664f-6255-8000-924eed585913'}}, metadata={'source': 'loop', 'step': 0, 'parents': {}}, created_at='2025-09-16T09:21:55.207778+00:00', parent_config={'configurable': {'thread_id': '1', 'checkpoint_ns': '', 'checkpoint_id': '1f092de9-6646-6487-bfff-7065d2432178'}}, tasks=(PregelTask(id='77465817-9c12-7087-225b-37f48195eb6e', name='generate_joke', path=('__pregel_pull', 'generate_joke'), error=None, interrupts=(), state=None, result={'joke': 'Why did the Indian Rupee go to therapy?\\n\\nBecause it was feeling a little \"devalued\"!'}),), interrupts=()), StateSnapshot(values={}, next=('__start__',), config={'configurable': {'thread_id': '1', 'checkpoint_ns': '', 'checkpoint_id': '1f092de9-6646-6487-bfff-7065d2432178'}}, metadata={'source': 'input', 'step': -1, 'parents': {}}, created_at='2025-09-16T09:21:55.204181+00:00', parent_config=None, tasks=(PregelTask(id='cb3d1ec0-64fa-2602-8ad4-f784afc3f770', name='__start__', path=('__pregel_pull', '__start__'), error=None, interrupts=(), state=None, result={'topic': 'Indian Economy'}),), interrupts=())]\n",
      "====================================================================================================\n",
      "This is Second Interaction\n",
      "====================================================================================================\n",
      "[StateSnapshot(values={'topic': 'Bhojpuri Cinema', 'joke': 'Why did the Bhojpuri film actor bring a ladder to the movie set?\\n\\nBecause his action scenes were always \"up\" to a higher level.', 'explaination': \"This joke is a play on words. \\n\\n- 'Up' has a double meaning here. \\n  1. It means higher in a physical sense, like a ladder helps you climb up.\\n  2. It also means 'excellent' or 'of high quality', like action scenes being 'up' to a higher level, meaning very good.\\n\\nSo, the joke is saying that the Bhojpuri film actor's action scenes are always of a very high quality (up to a higher level) and he brought a ladder to the movie set, which is a pun on the double meaning of the word 'up'.\"}, next=(), config={'configurable': {'thread_id': '2', 'checkpoint_ns': '', 'checkpoint_id': '1f092df8-f5b0-608d-8002-778f2246e952'}}, metadata={'source': 'loop', 'step': 2, 'parents': {}}, created_at='2025-09-16T09:28:52.895334+00:00', parent_config={'configurable': {'thread_id': '2', 'checkpoint_ns': '', 'checkpoint_id': '1f092df8-f2ad-6c2c-8001-067ea70fd30e'}}, tasks=(), interrupts=()), StateSnapshot(values={'topic': 'Bhojpuri Cinema', 'joke': 'Why did the Bhojpuri film actor bring a ladder to the movie set?\\n\\nBecause his action scenes were always \"up\" to a higher level.'}, next=('explain_joke',), config={'configurable': {'thread_id': '2', 'checkpoint_ns': '', 'checkpoint_id': '1f092df8-f2ad-6c2c-8001-067ea70fd30e'}}, metadata={'source': 'loop', 'step': 1, 'parents': {}}, created_at='2025-09-16T09:28:52.579831+00:00', parent_config={'configurable': {'thread_id': '2', 'checkpoint_ns': '', 'checkpoint_id': '1f092df8-f04c-6746-8000-5f9ae1bd42cd'}}, tasks=(PregelTask(id='49160f54-5523-d834-ae75-a7be8ee18c31', name='explain_joke', path=('__pregel_pull', 'explain_joke'), error=None, interrupts=(), state=None, result={'explaination': \"This joke is a play on words. \\n\\n- 'Up' has a double meaning here. \\n  1. It means higher in a physical sense, like a ladder helps you climb up.\\n  2. It also means 'excellent' or 'of high quality', like action scenes being 'up' to a higher level, meaning very good.\\n\\nSo, the joke is saying that the Bhojpuri film actor's action scenes are always of a very high quality (up to a higher level) and he brought a ladder to the movie set, which is a pun on the double meaning of the word 'up'.\"}),), interrupts=()), StateSnapshot(values={'topic': 'Bhojpuri Cinema'}, next=('generate_joke',), config={'configurable': {'thread_id': '2', 'checkpoint_ns': '', 'checkpoint_id': '1f092df8-f04c-6746-8000-5f9ae1bd42cd'}}, metadata={'source': 'loop', 'step': 0, 'parents': {}}, created_at='2025-09-16T09:28:52.330262+00:00', parent_config={'configurable': {'thread_id': '2', 'checkpoint_ns': '', 'checkpoint_id': '1f092df8-f04a-6755-bfff-98074eb73220'}}, tasks=(PregelTask(id='d015c032-1f4c-8658-93a9-0963f76dfb4e', name='generate_joke', path=('__pregel_pull', 'generate_joke'), error=None, interrupts=(), state=None, result={'joke': 'Why did the Bhojpuri film actor bring a ladder to the movie set?\\n\\nBecause his action scenes were always \"up\" to a higher level.'}),), interrupts=()), StateSnapshot(values={}, next=('__start__',), config={'configurable': {'thread_id': '2', 'checkpoint_ns': '', 'checkpoint_id': '1f092df8-f04a-6755-bfff-98074eb73220'}}, metadata={'source': 'input', 'step': -1, 'parents': {}}, created_at='2025-09-16T09:28:52.329445+00:00', parent_config=None, tasks=(PregelTask(id='3986dc29-f348-70ec-279e-20870cda2282', name='__start__', path=('__pregel_pull', '__start__'), error=None, interrupts=(), state=None, result={'topic': 'Bhojpuri Cinema'}),), interrupts=())]\n"
     ]
    }
   ],
   "source": [
    "print(\"This is First Interaction\")\n",
    "print(\"=\" * 100)\n",
    "print(a)\n",
    "print(\"=\" * 100)\n",
    "print(\"This is Second Interaction\")\n",
    "print(\"=\" * 100)\n",
    "print(b)"
   ]
  },
  {
   "cell_type": "code",
   "execution_count": null,
   "id": "b07fc2c9",
   "metadata": {},
   "outputs": [],
   "source": []
  }
 ],
 "metadata": {
  "kernelspec": {
   "display_name": "LangGraph (3.13.7)",
   "language": "python",
   "name": "python3"
  },
  "language_info": {
   "codemirror_mode": {
    "name": "ipython",
    "version": 3
   },
   "file_extension": ".py",
   "mimetype": "text/x-python",
   "name": "python",
   "nbconvert_exporter": "python",
   "pygments_lexer": "ipython3",
   "version": "3.13.7"
  }
 },
 "nbformat": 4,
 "nbformat_minor": 5
}
