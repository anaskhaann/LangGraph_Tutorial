{
 "cells": [
  {
   "cell_type": "code",
   "execution_count": 1,
   "id": "3437b111",
   "metadata": {},
   "outputs": [],
   "source": [
    "from langgraph.graph import StateGraph, START, END\n",
    "from typing import TypedDict\n",
    "from langchain_groq import ChatGroq\n",
    "from dotenv import load_dotenv\n",
    "from langgraph.checkpoint.memory import InMemorySaver"
   ]
  },
  {
   "cell_type": "code",
   "execution_count": 2,
   "id": "1aad4cf4",
   "metadata": {},
   "outputs": [
    {
     "data": {
      "text/plain": [
       "True"
      ]
     },
     "execution_count": 2,
     "metadata": {},
     "output_type": "execute_result"
    }
   ],
   "source": [
    "load_dotenv()"
   ]
  },
  {
   "cell_type": "code",
   "execution_count": 3,
   "id": "1faafb4b",
   "metadata": {},
   "outputs": [],
   "source": [
    "llm = ChatGroq(model=\"llama-3.1-8b-instant\")"
   ]
  },
  {
   "cell_type": "code",
   "execution_count": 4,
   "id": "a004c90b",
   "metadata": {},
   "outputs": [],
   "source": [
    "# State for Jokes\n",
    "\n",
    "\n",
    "class JokeState(TypedDict):\n",
    "    topic: str\n",
    "    joke: str\n",
    "    explaination: str"
   ]
  },
  {
   "cell_type": "code",
   "execution_count": 5,
   "id": "58372618",
   "metadata": {},
   "outputs": [],
   "source": [
    "# Generate the Joke on the Topic(Node)\n",
    "def get_joke(state: JokeState):\n",
    "    # get topic\n",
    "    topic = state[\"topic\"]\n",
    "\n",
    "    # generate prompt\n",
    "    prompt = f\"Generate a Small Joke on Topic: {topic}\"\n",
    "\n",
    "    response = llm.invoke(prompt).content\n",
    "\n",
    "    return {\"joke\": response}\n",
    "\n",
    "\n",
    "# Generate Explaination of the Joke(Node)\n",
    "def explain_joke(state: JokeState):\n",
    "    # get joke\n",
    "    joke = state[\"joke\"]\n",
    "\n",
    "    # generate prompt\n",
    "    prompt = f\"Understand and Explain the provided joke in simple words.\\n{joke}\"\n",
    "\n",
    "    response = llm.invoke(prompt).content\n",
    "\n",
    "    return {\"explaination\": response}"
   ]
  },
  {
   "cell_type": "code",
   "execution_count": 6,
   "id": "d2d0de41",
   "metadata": {},
   "outputs": [],
   "source": [
    "graph = StateGraph(JokeState)"
   ]
  },
  {
   "cell_type": "code",
   "execution_count": 7,
   "id": "218d2a43",
   "metadata": {},
   "outputs": [
    {
     "data": {
      "text/plain": [
       "<langgraph.graph.state.StateGraph at 0x228a45fdfd0>"
      ]
     },
     "execution_count": 7,
     "metadata": {},
     "output_type": "execute_result"
    }
   ],
   "source": [
    "# add nodes\n",
    "graph.add_node(\"generate_joke\", get_joke)\n",
    "graph.add_node(\"explain_joke\", explain_joke)\n",
    "\n",
    "# Add Edges\n",
    "graph.add_edge(START, \"generate_joke\")\n",
    "graph.add_edge(\"generate_joke\", \"explain_joke\")\n",
    "graph.add_edge(\"explain_joke\", END)"
   ]
  },
  {
   "cell_type": "markdown",
   "id": "1144a0c1",
   "metadata": {},
   "source": [
    "> Here we will make the checkpointer and during compiling pass the checkpointer which we are using\n"
   ]
  },
  {
   "cell_type": "code",
   "execution_count": 8,
   "id": "6793e4e6",
   "metadata": {},
   "outputs": [],
   "source": [
    "# Checkpointer\n",
    "checkpoints = InMemorySaver()\n",
    "\n",
    "# Pass the checkpointer to graph\n",
    "\n",
    "workflow = graph.compile(checkpointer=checkpoints)"
   ]
  },
  {
   "cell_type": "code",
   "execution_count": 9,
   "id": "d2b939af",
   "metadata": {},
   "outputs": [
    {
     "data": {
      "image/png": "[encoded data removed]",
      "text/plain": [
       "<langgraph.graph.state.CompiledStateGraph object at 0x00000228A45FE3C0>"
      ]
     },
     "execution_count": 9,
     "metadata": {},
     "output_type": "execute_result"
    }
   ],
   "source": [
    "workflow"
   ]
  },
  {
   "cell_type": "markdown",
   "id": "9f0b9192",
   "metadata": {},
   "source": [
    "> During the time of Invoke pass the Unique Thread id.\n",
    "\n",
    "The thread id is made using `configurable mapping of thread` which can be stored to some variable and pass during invoke\n"
   ]
  },
  {
   "cell_type": "code",
   "execution_count": 10,
   "id": "f25ee2df",
   "metadata": {},
   "outputs": [],
   "source": [
    "# This is how to define configurable mapping\n",
    "config1 = {\"configurable\": {\"thread_id\": \"1\"}}"
   ]
  },
  {
   "cell_type": "code",
   "execution_count": 11,
   "id": "2c49be6c",
   "metadata": {},
   "outputs": [
    {
     "data": {
      "text/plain": [
       "{'topic': 'Indian Economy',\n",
       " 'joke': 'Why did the Indian rupee go to therapy?\\n\\nBecause it was feeling a little unstable and wanted to work on its growth rate.',\n",
       " 'explaination': 'This joke is a play on words related to the Indian economy and the currency, the Indian rupee. Here\\'s a breakdown:\\n\\n- The joke starts by asking why the Indian rupee (the currency) went to therapy.\\n- The punchline explains that it went to therapy because it was feeling \"unstable.\" In economics, an unstable currency means it\\'s not stable in value, and its value fluctuates greatly.\\n- The second part of the punchline says it wants to work on its \"growth rate.\" This is a reference to economic growth, which is a measure of how quickly a country\\'s economy is growing. It\\'s a clever play on words because in economics, a growth rate is a numerical measure, but in a therapy context, growth rate could refer to personal growth and development.'}"
      ]
     },
     "execution_count": 11,
     "metadata": {},
     "output_type": "execute_result"
    }
   ],
   "source": [
    "workflow.invoke({\"topic\": \"Indian Economy\"}, config=config1)"
   ]
  },
  {
   "cell_type": "code",
   "execution_count": 12,
   "id": "34a5d248",
   "metadata": {},
   "outputs": [
    {
     "data": {
      "text/plain": [
       "StateSnapshot(values={'topic': 'Indian Economy', 'joke': 'Why did the Indian rupee go to therapy?\\n\\nBecause it was feeling a little unstable and wanted to work on its growth rate.', 'explaination': 'This joke is a play on words related to the Indian economy and the currency, the Indian rupee. Here\\'s a breakdown:\\n\\n- The joke starts by asking why the Indian rupee (the currency) went to therapy.\\n- The punchline explains that it went to therapy because it was feeling \"unstable.\" In economics, an unstable currency means it\\'s not stable in value, and its value fluctuates greatly.\\n- The second part of the punchline says it wants to work on its \"growth rate.\" This is a reference to economic growth, which is a measure of how quickly a country\\'s economy is growing. It\\'s a clever play on words because in economics, a growth rate is a numerical measure, but in a therapy context, growth rate could refer to personal growth and development.'}, next=(), config={'configurable': {'thread_id': '1', 'checkpoint_ns': '', 'checkpoint_id': '1f092e9b-d733-697a-8002-508196a48152'}}, metadata={'source': 'loop', 'step': 2, 'parents': {}}, created_at='2025-09-16T10:41:45.196551+00:00', parent_config={'configurable': {'thread_id': '1', 'checkpoint_ns': '', 'checkpoint_id': '1f092e9b-d364-6bf1-8001-ba7465a8dae8'}}, tasks=(), interrupts=())"
      ]
     },
     "execution_count": 12,
     "metadata": {},
     "output_type": "execute_result"
    }
   ],
   "source": [
    "# To get the states of that thread\n",
    "workflow.get_state(config1)"
   ]
  },
  {
   "cell_type": "code",
   "execution_count": 13,
   "id": "80f1b478",
   "metadata": {},
   "outputs": [
    {
     "data": {
      "text/plain": [
       "[StateSnapshot(values={'topic': 'Indian Economy', 'joke': 'Why did the Indian rupee go to therapy?\\n\\nBecause it was feeling a little unstable and wanted to work on its growth rate.', 'explaination': 'This joke is a play on words related to the Indian economy and the currency, the Indian rupee. Here\\'s a breakdown:\\n\\n- The joke starts by asking why the Indian rupee (the currency) went to therapy.\\n- The punchline explains that it went to therapy because it was feeling \"unstable.\" In economics, an unstable currency means it\\'s not stable in value, and its value fluctuates greatly.\\n- The second part of the punchline says it wants to work on its \"growth rate.\" This is a reference to economic growth, which is a measure of how quickly a country\\'s economy is growing. It\\'s a clever play on words because in economics, a growth rate is a numerical measure, but in a therapy context, growth rate could refer to personal growth and development.'}, next=(), config={'configurable': {'thread_id': '1', 'checkpoint_ns': '', 'checkpoint_id': '1f092e9b-d733-697a-8002-508196a48152'}}, metadata={'source': 'loop', 'step': 2, 'parents': {}}, created_at='2025-09-16T10:41:45.196551+00:00', parent_config={'configurable': {'thread_id': '1', 'checkpoint_ns': '', 'checkpoint_id': '1f092e9b-d364-6bf1-8001-ba7465a8dae8'}}, tasks=(), interrupts=()),\n",
       " StateSnapshot(values={'topic': 'Indian Economy', 'joke': 'Why did the Indian rupee go to therapy?\\n\\nBecause it was feeling a little unstable and wanted to work on its growth rate.'}, next=('explain_joke',), config={'configurable': {'thread_id': '1', 'checkpoint_ns': '', 'checkpoint_id': '1f092e9b-d364-6bf1-8001-ba7465a8dae8'}}, metadata={'source': 'loop', 'step': 1, 'parents': {}}, created_at='2025-09-16T10:41:44.797253+00:00', parent_config={'configurable': {'thread_id': '1', 'checkpoint_ns': '', 'checkpoint_id': '1f092e9b-d14a-63fd-8000-b24bc1748929'}}, tasks=(PregelTask(id='13781a2a-5d64-295c-0dd7-075048c4c472', name='explain_joke', path=('__pregel_pull', 'explain_joke'), error=None, interrupts=(), state=None, result={'explaination': 'This joke is a play on words related to the Indian economy and the currency, the Indian rupee. Here\\'s a breakdown:\\n\\n- The joke starts by asking why the Indian rupee (the currency) went to therapy.\\n- The punchline explains that it went to therapy because it was feeling \"unstable.\" In economics, an unstable currency means it\\'s not stable in value, and its value fluctuates greatly.\\n- The second part of the punchline says it wants to work on its \"growth rate.\" This is a reference to economic growth, which is a measure of how quickly a country\\'s economy is growing. It\\'s a clever play on words because in economics, a growth rate is a numerical measure, but in a therapy context, growth rate could refer to personal growth and development.'}),), interrupts=()),\n",
       " StateSnapshot(values={'topic': 'Indian Economy'}, next=('generate_joke',), config={'configurable': {'thread_id': '1', 'checkpoint_ns': '', 'checkpoint_id': '1f092e9b-d14a-63fd-8000-b24bc1748929'}}, metadata={'source': 'loop', 'step': 0, 'parents': {}}, created_at='2025-09-16T10:41:44.576695+00:00', parent_config={'configurable': {'thread_id': '1', 'checkpoint_ns': '', 'checkpoint_id': '1f092e9b-d145-6e44-bfff-565bde99220a'}}, tasks=(PregelTask(id='ac40e73f-b5e4-7b32-0b2e-f77e21f4a979', name='generate_joke', path=('__pregel_pull', 'generate_joke'), error=None, interrupts=(), state=None, result={'joke': 'Why did the Indian rupee go to therapy?\\n\\nBecause it was feeling a little unstable and wanted to work on its growth rate.'}),), interrupts=()),\n",
       " StateSnapshot(values={}, next=('__start__',), config={'configurable': {'thread_id': '1', 'checkpoint_ns': '', 'checkpoint_id': '1f092e9b-d145-6e44-bfff-565bde99220a'}}, metadata={'source': 'input', 'step': -1, 'parents': {}}, created_at='2025-09-16T10:41:44.574921+00:00', parent_config=None, tasks=(PregelTask(id='c03a6274-c52b-e140-30c2-63a88636f69d', name='__start__', path=('__pregel_pull', '__start__'), error=None, interrupts=(), state=None, result={'topic': 'Indian Economy'}),), interrupts=())]"
      ]
     },
     "execution_count": 13,
     "metadata": {},
     "output_type": "execute_result"
    }
   ],
   "source": [
    "# All intermediate state values can be seen using history by passing thread Id\n",
    "list(workflow.get_state_history(config1))"
   ]
  },
  {
   "cell_type": "code",
   "execution_count": 14,
   "id": "f4e5f962",
   "metadata": {},
   "outputs": [
    {
     "data": {
      "text/plain": [
       "4"
      ]
     },
     "execution_count": 14,
     "metadata": {},
     "output_type": "execute_result"
    }
   ],
   "source": [
    "len(list(workflow.get_state_history(config1)))"
   ]
  },
  {
   "cell_type": "markdown",
   "id": "3a765269",
   "metadata": {},
   "source": [
    "**Here we are getting 4 Values**\n",
    "\n",
    "1. **State value before START**\n",
    "2. **State value after start and before generating joke**\n",
    "3. **State value after generating joke and before explaination**\n",
    "4. **State value after explaination and before END**\n"
   ]
  },
  {
   "cell_type": "code",
   "execution_count": 15,
   "id": "fb4319b2",
   "metadata": {},
   "outputs": [
    {
     "name": "stdout",
     "output_type": "stream",
     "text": [
      "==================================================\n",
      "StateSnapshot(values={'topic': 'Indian Economy', 'joke': 'Why did the Indian rupee go to therapy?\\n\\nBecause it was feeling a little unstable and wanted to work on its growth rate.', 'explaination': 'This joke is a play on words related to the Indian economy and the currency, the Indian rupee. Here\\'s a breakdown:\\n\\n- The joke starts by asking why the Indian rupee (the currency) went to therapy.\\n- The punchline explains that it went to therapy because it was feeling \"unstable.\" In economics, an unstable currency means it\\'s not stable in value, and its value fluctuates greatly.\\n- The second part of the punchline says it wants to work on its \"growth rate.\" This is a reference to economic growth, which is a measure of how quickly a country\\'s economy is growing. It\\'s a clever play on words because in economics, a growth rate is a numerical measure, but in a therapy context, growth rate could refer to personal growth and development.'}, next=(), config={'configurable': {'thread_id': '1', 'checkpoint_ns': '', 'checkpoint_id': '1f092e9b-d733-697a-8002-508196a48152'}}, metadata={'source': 'loop', 'step': 2, 'parents': {}}, created_at='2025-09-16T10:41:45.196551+00:00', parent_config={'configurable': {'thread_id': '1', 'checkpoint_ns': '', 'checkpoint_id': '1f092e9b-d364-6bf1-8001-ba7465a8dae8'}}, tasks=(), interrupts=())\n",
      "==================================================\n",
      "StateSnapshot(values={'topic': 'Indian Economy', 'joke': 'Why did the Indian rupee go to therapy?\\n\\nBecause it was feeling a little unstable and wanted to work on its growth rate.'}, next=('explain_joke',), config={'configurable': {'thread_id': '1', 'checkpoint_ns': '', 'checkpoint_id': '1f092e9b-d364-6bf1-8001-ba7465a8dae8'}}, metadata={'source': 'loop', 'step': 1, 'parents': {}}, created_at='2025-09-16T10:41:44.797253+00:00', parent_config={'configurable': {'thread_id': '1', 'checkpoint_ns': '', 'checkpoint_id': '1f092e9b-d14a-63fd-8000-b24bc1748929'}}, tasks=(PregelTask(id='13781a2a-5d64-295c-0dd7-075048c4c472', name='explain_joke', path=('__pregel_pull', 'explain_joke'), error=None, interrupts=(), state=None, result={'explaination': 'This joke is a play on words related to the Indian economy and the currency, the Indian rupee. Here\\'s a breakdown:\\n\\n- The joke starts by asking why the Indian rupee (the currency) went to therapy.\\n- The punchline explains that it went to therapy because it was feeling \"unstable.\" In economics, an unstable currency means it\\'s not stable in value, and its value fluctuates greatly.\\n- The second part of the punchline says it wants to work on its \"growth rate.\" This is a reference to economic growth, which is a measure of how quickly a country\\'s economy is growing. It\\'s a clever play on words because in economics, a growth rate is a numerical measure, but in a therapy context, growth rate could refer to personal growth and development.'}),), interrupts=())\n",
      "==================================================\n",
      "StateSnapshot(values={'topic': 'Indian Economy'}, next=('generate_joke',), config={'configurable': {'thread_id': '1', 'checkpoint_ns': '', 'checkpoint_id': '1f092e9b-d14a-63fd-8000-b24bc1748929'}}, metadata={'source': 'loop', 'step': 0, 'parents': {}}, created_at='2025-09-16T10:41:44.576695+00:00', parent_config={'configurable': {'thread_id': '1', 'checkpoint_ns': '', 'checkpoint_id': '1f092e9b-d145-6e44-bfff-565bde99220a'}}, tasks=(PregelTask(id='ac40e73f-b5e4-7b32-0b2e-f77e21f4a979', name='generate_joke', path=('__pregel_pull', 'generate_joke'), error=None, interrupts=(), state=None, result={'joke': 'Why did the Indian rupee go to therapy?\\n\\nBecause it was feeling a little unstable and wanted to work on its growth rate.'}),), interrupts=())\n",
      "==================================================\n",
      "StateSnapshot(values={}, next=('__start__',), config={'configurable': {'thread_id': '1', 'checkpoint_ns': '', 'checkpoint_id': '1f092e9b-d145-6e44-bfff-565bde99220a'}}, metadata={'source': 'input', 'step': -1, 'parents': {}}, created_at='2025-09-16T10:41:44.574921+00:00', parent_config=None, tasks=(PregelTask(id='c03a6274-c52b-e140-30c2-63a88636f69d', name='__start__', path=('__pregel_pull', '__start__'), error=None, interrupts=(), state=None, result={'topic': 'Indian Economy'}),), interrupts=())\n"
     ]
    }
   ],
   "source": [
    "for i in list(workflow.get_state_history(config1)):\n",
    "    print(\"=\" * 50)\n",
    "    print(i)"
   ]
  },
  {
   "cell_type": "markdown",
   "id": "8a073042",
   "metadata": {},
   "source": [
    "**Now lets Increase Thread and see the individual Threads**\n"
   ]
  },
  {
   "cell_type": "code",
   "execution_count": 16,
   "id": "d5df429b",
   "metadata": {},
   "outputs": [
    {
     "data": {
      "text/plain": [
       "{'topic': 'Bhojpuri Cinema',\n",
       " 'joke': 'Why did the Bhojpuri actor bring a ladder to the film set?\\n\\nBecause he wanted to take his acting to the next level.',\n",
       " 'explaination': 'This joke is a play on words. \\n\\nThe phrase \"take it to the next level\" is an idiomatic expression that means to improve or do something better. In the context of acting, it means to give a better performance.\\n\\nThe joke is funny because the Bhojpuri actor brings a literal ladder to the film set, but the punchline is that he wants to take his acting to the next level, which is a metaphorical expression. It\\'s like he\\'s using a ladder as a pun (a wordplay) to make a clever joke.'}"
      ]
     },
     "execution_count": 16,
     "metadata": {},
     "output_type": "execute_result"
    }
   ],
   "source": [
    "config2 = {\"configurable\": {\"thread_id\": \"2\"}}\n",
    "\n",
    "workflow.invoke({\"topic\": \"Bhojpuri Cinema\"}, config=config2)"
   ]
  },
  {
   "cell_type": "code",
   "execution_count": 17,
   "id": "2cd4ebf7",
   "metadata": {},
   "outputs": [
    {
     "data": {
      "text/plain": [
       "StateSnapshot(values={'topic': 'Bhojpuri Cinema', 'joke': 'Why did the Bhojpuri actor bring a ladder to the film set?\\n\\nBecause he wanted to take his acting to the next level.', 'explaination': 'This joke is a play on words. \\n\\nThe phrase \"take it to the next level\" is an idiomatic expression that means to improve or do something better. In the context of acting, it means to give a better performance.\\n\\nThe joke is funny because the Bhojpuri actor brings a literal ladder to the film set, but the punchline is that he wants to take his acting to the next level, which is a metaphorical expression. It\\'s like he\\'s using a ladder as a pun (a wordplay) to make a clever joke.'}, next=(), config={'configurable': {'thread_id': '2', 'checkpoint_ns': '', 'checkpoint_id': '1f092e9c-6840-6e52-8002-0958537bdc4c'}}, metadata={'source': 'loop', 'step': 2, 'parents': {}}, created_at='2025-09-16T10:42:00.406363+00:00', parent_config={'configurable': {'thread_id': '2', 'checkpoint_ns': '', 'checkpoint_id': '1f092e9c-65ab-6826-8001-8c4e3ca2ed8d'}}, tasks=(), interrupts=())"
      ]
     },
     "execution_count": 17,
     "metadata": {},
     "output_type": "execute_result"
    }
   ],
   "source": [
    "workflow.get_state(config2)"
   ]
  },
  {
   "cell_type": "code",
   "execution_count": 18,
   "id": "5da2adba",
   "metadata": {},
   "outputs": [
    {
     "data": {
      "text/plain": [
       "[StateSnapshot(values={'topic': 'Bhojpuri Cinema', 'joke': 'Why did the Bhojpuri actor bring a ladder to the film set?\\n\\nBecause he wanted to take his acting to the next level.', 'explaination': 'This joke is a play on words. \\n\\nThe phrase \"take it to the next level\" is an idiomatic expression that means to improve or do something better. In the context of acting, it means to give a better performance.\\n\\nThe joke is funny because the Bhojpuri actor brings a literal ladder to the film set, but the punchline is that he wants to take his acting to the next level, which is a metaphorical expression. It\\'s like he\\'s using a ladder as a pun (a wordplay) to make a clever joke.'}, next=(), config={'configurable': {'thread_id': '2', 'checkpoint_ns': '', 'checkpoint_id': '1f092e9c-6840-6e52-8002-0958537bdc4c'}}, metadata={'source': 'loop', 'step': 2, 'parents': {}}, created_at='2025-09-16T10:42:00.406363+00:00', parent_config={'configurable': {'thread_id': '2', 'checkpoint_ns': '', 'checkpoint_id': '1f092e9c-65ab-6826-8001-8c4e3ca2ed8d'}}, tasks=(), interrupts=()),\n",
       " StateSnapshot(values={'topic': 'Bhojpuri Cinema', 'joke': 'Why did the Bhojpuri actor bring a ladder to the film set?\\n\\nBecause he wanted to take his acting to the next level.'}, next=('explain_joke',), config={'configurable': {'thread_id': '2', 'checkpoint_ns': '', 'checkpoint_id': '1f092e9c-65ab-6826-8001-8c4e3ca2ed8d'}}, metadata={'source': 'loop', 'step': 1, 'parents': {}}, created_at='2025-09-16T10:42:00.135457+00:00', parent_config={'configurable': {'thread_id': '2', 'checkpoint_ns': '', 'checkpoint_id': '1f092e9c-6459-6965-8000-031741506f54'}}, tasks=(PregelTask(id='919e29f0-bd64-f07a-942b-a04b2fbaee06', name='explain_joke', path=('__pregel_pull', 'explain_joke'), error=None, interrupts=(), state=None, result={'explaination': 'This joke is a play on words. \\n\\nThe phrase \"take it to the next level\" is an idiomatic expression that means to improve or do something better. In the context of acting, it means to give a better performance.\\n\\nThe joke is funny because the Bhojpuri actor brings a literal ladder to the film set, but the punchline is that he wants to take his acting to the next level, which is a metaphorical expression. It\\'s like he\\'s using a ladder as a pun (a wordplay) to make a clever joke.'}),), interrupts=()),\n",
       " StateSnapshot(values={'topic': 'Bhojpuri Cinema'}, next=('generate_joke',), config={'configurable': {'thread_id': '2', 'checkpoint_ns': '', 'checkpoint_id': '1f092e9c-6459-6965-8000-031741506f54'}}, metadata={'source': 'loop', 'step': 0, 'parents': {}}, created_at='2025-09-16T10:41:59.996991+00:00', parent_config={'configurable': {'thread_id': '2', 'checkpoint_ns': '', 'checkpoint_id': '1f092e9c-6450-6635-bfff-3fcf21e861d4'}}, tasks=(PregelTask(id='91c5c55c-ef7d-86df-95f0-0286c74bf7b9', name='generate_joke', path=('__pregel_pull', 'generate_joke'), error=None, interrupts=(), state=None, result={'joke': 'Why did the Bhojpuri actor bring a ladder to the film set?\\n\\nBecause he wanted to take his acting to the next level.'}),), interrupts=()),\n",
       " StateSnapshot(values={}, next=('__start__',), config={'configurable': {'thread_id': '2', 'checkpoint_ns': '', 'checkpoint_id': '1f092e9c-6450-6635-bfff-3fcf21e861d4'}}, metadata={'source': 'input', 'step': -1, 'parents': {}}, created_at='2025-09-16T10:41:59.993255+00:00', parent_config=None, tasks=(PregelTask(id='a84e5ba8-5e30-f5f8-1e93-d8492caf0bfd', name='__start__', path=('__pregel_pull', '__start__'), error=None, interrupts=(), state=None, result={'topic': 'Bhojpuri Cinema'}),), interrupts=())]"
      ]
     },
     "execution_count": 18,
     "metadata": {},
     "output_type": "execute_result"
    }
   ],
   "source": [
    "list(workflow.get_state_history(config2))"
   ]
  },
  {
   "cell_type": "code",
   "execution_count": 19,
   "id": "803ebe03",
   "metadata": {},
   "outputs": [
    {
     "data": {
      "text/plain": [
       "4"
      ]
     },
     "execution_count": 19,
     "metadata": {},
     "output_type": "execute_result"
    }
   ],
   "source": [
    "len(list(workflow.get_state_history(config2)))"
   ]
  },
  {
   "cell_type": "code",
   "execution_count": 20,
   "id": "e4cb8535",
   "metadata": {},
   "outputs": [
    {
     "name": "stdout",
     "output_type": "stream",
     "text": [
      "============================================================\n",
      "StateSnapshot(values={'topic': 'Bhojpuri Cinema', 'joke': 'Why did the Bhojpuri actor bring a ladder to the film set?\\n\\nBecause he wanted to take his acting to the next level.', 'explaination': 'This joke is a play on words. \\n\\nThe phrase \"take it to the next level\" is an idiomatic expression that means to improve or do something better. In the context of acting, it means to give a better performance.\\n\\nThe joke is funny because the Bhojpuri actor brings a literal ladder to the film set, but the punchline is that he wants to take his acting to the next level, which is a metaphorical expression. It\\'s like he\\'s using a ladder as a pun (a wordplay) to make a clever joke.'}, next=(), config={'configurable': {'thread_id': '2', 'checkpoint_ns': '', 'checkpoint_id': '1f092e9c-6840-6e52-8002-0958537bdc4c'}}, metadata={'source': 'loop', 'step': 2, 'parents': {}}, created_at='2025-09-16T10:42:00.406363+00:00', parent_config={'configurable': {'thread_id': '2', 'checkpoint_ns': '', 'checkpoint_id': '1f092e9c-65ab-6826-8001-8c4e3ca2ed8d'}}, tasks=(), interrupts=())\n",
      "============================================================\n",
      "StateSnapshot(values={'topic': 'Bhojpuri Cinema', 'joke': 'Why did the Bhojpuri actor bring a ladder to the film set?\\n\\nBecause he wanted to take his acting to the next level.'}, next=('explain_joke',), config={'configurable': {'thread_id': '2', 'checkpoint_ns': '', 'checkpoint_id': '1f092e9c-65ab-6826-8001-8c4e3ca2ed8d'}}, metadata={'source': 'loop', 'step': 1, 'parents': {}}, created_at='2025-09-16T10:42:00.135457+00:00', parent_config={'configurable': {'thread_id': '2', 'checkpoint_ns': '', 'checkpoint_id': '1f092e9c-6459-6965-8000-031741506f54'}}, tasks=(PregelTask(id='919e29f0-bd64-f07a-942b-a04b2fbaee06', name='explain_joke', path=('__pregel_pull', 'explain_joke'), error=None, interrupts=(), state=None, result={'explaination': 'This joke is a play on words. \\n\\nThe phrase \"take it to the next level\" is an idiomatic expression that means to improve or do something better. In the context of acting, it means to give a better performance.\\n\\nThe joke is funny because the Bhojpuri actor brings a literal ladder to the film set, but the punchline is that he wants to take his acting to the next level, which is a metaphorical expression. It\\'s like he\\'s using a ladder as a pun (a wordplay) to make a clever joke.'}),), interrupts=())\n",
      "============================================================\n",
      "StateSnapshot(values={'topic': 'Bhojpuri Cinema'}, next=('generate_joke',), config={'configurable': {'thread_id': '2', 'checkpoint_ns': '', 'checkpoint_id': '1f092e9c-6459-6965-8000-031741506f54'}}, metadata={'source': 'loop', 'step': 0, 'parents': {}}, created_at='2025-09-16T10:41:59.996991+00:00', parent_config={'configurable': {'thread_id': '2', 'checkpoint_ns': '', 'checkpoint_id': '1f092e9c-6450-6635-bfff-3fcf21e861d4'}}, tasks=(PregelTask(id='91c5c55c-ef7d-86df-95f0-0286c74bf7b9', name='generate_joke', path=('__pregel_pull', 'generate_joke'), error=None, interrupts=(), state=None, result={'joke': 'Why did the Bhojpuri actor bring a ladder to the film set?\\n\\nBecause he wanted to take his acting to the next level.'}),), interrupts=())\n",
      "============================================================\n",
      "StateSnapshot(values={}, next=('__start__',), config={'configurable': {'thread_id': '2', 'checkpoint_ns': '', 'checkpoint_id': '1f092e9c-6450-6635-bfff-3fcf21e861d4'}}, metadata={'source': 'input', 'step': -1, 'parents': {}}, created_at='2025-09-16T10:41:59.993255+00:00', parent_config=None, tasks=(PregelTask(id='a84e5ba8-5e30-f5f8-1e93-d8492caf0bfd', name='__start__', path=('__pregel_pull', '__start__'), error=None, interrupts=(), state=None, result={'topic': 'Bhojpuri Cinema'}),), interrupts=())\n"
     ]
    }
   ],
   "source": [
    "for i in list(workflow.get_state_history(config2)):\n",
    "    print(\"=\" * 60)\n",
    "    print(i)"
   ]
  },
  {
   "cell_type": "markdown",
   "id": "5cad27cd",
   "metadata": {},
   "source": [
    "## **Time Travel**\n",
    "\n",
    "- Pass the checkpoint id to get that state along with thread\n",
    "\n",
    "- While invoking pass checkpoint id along with the thread id\n"
   ]
  },
  {
   "cell_type": "code",
   "execution_count": 21,
   "id": "b07fc2c9",
   "metadata": {},
   "outputs": [
    {
     "data": {
      "text/plain": [
       "StateSnapshot(values={}, next=('__start__',), config={'configurable': {'thread_id': '1', 'checkpoint_id': '1f092e9b-d145-6e44-bfff-565bde99220a'}}, metadata={'source': 'input', 'step': -1, 'parents': {}}, created_at='2025-09-16T10:41:44.574921+00:00', parent_config=None, tasks=(PregelTask(id='c03a6274-c52b-e140-30c2-63a88636f69d', name='__start__', path=('__pregel_pull', '__start__'), error=None, interrupts=(), state=None, result={'topic': 'Indian Economy'}),), interrupts=())"
      ]
     },
     "execution_count": 21,
     "metadata": {},
     "output_type": "execute_result"
    }
   ],
   "source": [
    "# Check for 1st joke\n",
    "# pass thread and checkpoint id\n",
    "workflow.get_state(\n",
    "    {\n",
    "        \"configurable\": {\n",
    "            \"thread_id\": \"1\",\n",
    "            \"checkpoint_id\": \"1f092e9b-d145-6e44-bfff-565bde99220a\",\n",
    "        }\n",
    "    }\n",
    ")"
   ]
  },
  {
   "cell_type": "code",
   "execution_count": 22,
   "id": "e224f290",
   "metadata": {},
   "outputs": [
    {
     "data": {
      "text/plain": [
       "{'topic': 'Indian Economy',\n",
       " 'joke': 'Why did the Indian rupee go to therapy?\\n\\nBecause it was feeling devalued and had a lot of inflation to deal with!',\n",
       " 'explaination': 'This is a play on words. The joke is using the phrase \"feeling devalued\" to have a double meaning. \\n\\n- \\'Feeling devalued\\' can mean that the Indian rupee (a type of currency) is not valued or respected as much as it used to be. This is a common issue with many currencies.\\n- \\'Devalued\\' can also mean that the rupee is not feeling good or is experiencing emotional distress, as it would in therapy.\\n\\nThe punchline is funny because it\\'s making a connection between the currency\\'s economic issues (inflation) and its supposed emotional state (\\'feeling devalued\\').'}"
      ]
     },
     "execution_count": 22,
     "metadata": {},
     "output_type": "execute_result"
    }
   ],
   "source": [
    "workflow.invoke(\n",
    "    None,\n",
    "    config={\n",
    "        \"configurable\": {\n",
    "            \"thread_id\": \"1\",\n",
    "            \"checkpoint_id\": \"1f092e9b-d145-6e44-bfff-565bde99220a\",\n",
    "        }\n",
    "    },\n",
    ")"
   ]
  },
  {
   "cell_type": "code",
   "execution_count": 23,
   "id": "bcb84d82",
   "metadata": {},
   "outputs": [
    {
     "data": {
      "text/plain": [
       "[StateSnapshot(values={'topic': 'Indian Economy', 'joke': 'Why did the Indian rupee go to therapy?\\n\\nBecause it was feeling devalued and had a lot of inflation to deal with!', 'explaination': 'This is a play on words. The joke is using the phrase \"feeling devalued\" to have a double meaning. \\n\\n- \\'Feeling devalued\\' can mean that the Indian rupee (a type of currency) is not valued or respected as much as it used to be. This is a common issue with many currencies.\\n- \\'Devalued\\' can also mean that the rupee is not feeling good or is experiencing emotional distress, as it would in therapy.\\n\\nThe punchline is funny because it\\'s making a connection between the currency\\'s economic issues (inflation) and its supposed emotional state (\\'feeling devalued\\').'}, next=(), config={'configurable': {'thread_id': '1', 'checkpoint_ns': '', 'checkpoint_id': '1f092eac-5eca-60ee-8002-ebdfb14e8344'}}, metadata={'source': 'loop', 'step': 2, 'parents': {}}, created_at='2025-09-16T10:49:08.910683+00:00', parent_config={'configurable': {'thread_id': '1', 'checkpoint_ns': '', 'checkpoint_id': '1f092eac-5b7a-6206-8001-c6bb6729d5c7'}}, tasks=(), interrupts=()),\n",
       " StateSnapshot(values={'topic': 'Indian Economy', 'joke': 'Why did the Indian rupee go to therapy?\\n\\nBecause it was feeling devalued and had a lot of inflation to deal with!'}, next=('explain_joke',), config={'configurable': {'thread_id': '1', 'checkpoint_ns': '', 'checkpoint_id': '1f092eac-5b7a-6206-8001-c6bb6729d5c7'}}, metadata={'source': 'loop', 'step': 1, 'parents': {}}, created_at='2025-09-16T10:49:08.563376+00:00', parent_config={'configurable': {'thread_id': '1', 'checkpoint_ns': '', 'checkpoint_id': '1f092eac-59da-6309-8000-16b67ae616e1'}}, tasks=(PregelTask(id='042acb6e-7488-b90a-cba5-c32a04ae41fd', name='explain_joke', path=('__pregel_pull', 'explain_joke'), error=None, interrupts=(), state=None, result={'explaination': 'This is a play on words. The joke is using the phrase \"feeling devalued\" to have a double meaning. \\n\\n- \\'Feeling devalued\\' can mean that the Indian rupee (a type of currency) is not valued or respected as much as it used to be. This is a common issue with many currencies.\\n- \\'Devalued\\' can also mean that the rupee is not feeling good or is experiencing emotional distress, as it would in therapy.\\n\\nThe punchline is funny because it\\'s making a connection between the currency\\'s economic issues (inflation) and its supposed emotional state (\\'feeling devalued\\').'}),), interrupts=()),\n",
       " StateSnapshot(values={'topic': 'Indian Economy'}, next=('generate_joke',), config={'configurable': {'thread_id': '1', 'checkpoint_ns': '', 'checkpoint_id': '1f092eac-59da-6309-8000-16b67ae616e1'}}, metadata={'source': 'loop', 'step': 0, 'parents': {}}, created_at='2025-09-16T10:49:08.393008+00:00', parent_config={'configurable': {'thread_id': '1', 'checkpoint_ns': '', 'checkpoint_id': '1f092e9b-d145-6e44-bfff-565bde99220a'}}, tasks=(PregelTask(id='50f8d1c1-4b63-2fad-4871-260617c54f02', name='generate_joke', path=('__pregel_pull', 'generate_joke'), error=None, interrupts=(), state=None, result={'joke': 'Why did the Indian rupee go to therapy?\\n\\nBecause it was feeling devalued and had a lot of inflation to deal with!'}),), interrupts=()),\n",
       " StateSnapshot(values={'topic': 'Indian Economy', 'joke': 'Why did the Indian rupee go to therapy?\\n\\nBecause it was feeling a little unstable and wanted to work on its growth rate.', 'explaination': 'This joke is a play on words related to the Indian economy and the currency, the Indian rupee. Here\\'s a breakdown:\\n\\n- The joke starts by asking why the Indian rupee (the currency) went to therapy.\\n- The punchline explains that it went to therapy because it was feeling \"unstable.\" In economics, an unstable currency means it\\'s not stable in value, and its value fluctuates greatly.\\n- The second part of the punchline says it wants to work on its \"growth rate.\" This is a reference to economic growth, which is a measure of how quickly a country\\'s economy is growing. It\\'s a clever play on words because in economics, a growth rate is a numerical measure, but in a therapy context, growth rate could refer to personal growth and development.'}, next=(), config={'configurable': {'thread_id': '1', 'checkpoint_ns': '', 'checkpoint_id': '1f092e9b-d733-697a-8002-508196a48152'}}, metadata={'source': 'loop', 'step': 2, 'parents': {}}, created_at='2025-09-16T10:41:45.196551+00:00', parent_config={'configurable': {'thread_id': '1', 'checkpoint_ns': '', 'checkpoint_id': '1f092e9b-d364-6bf1-8001-ba7465a8dae8'}}, tasks=(), interrupts=()),\n",
       " StateSnapshot(values={'topic': 'Indian Economy', 'joke': 'Why did the Indian rupee go to therapy?\\n\\nBecause it was feeling a little unstable and wanted to work on its growth rate.'}, next=('explain_joke',), config={'configurable': {'thread_id': '1', 'checkpoint_ns': '', 'checkpoint_id': '1f092e9b-d364-6bf1-8001-ba7465a8dae8'}}, metadata={'source': 'loop', 'step': 1, 'parents': {}}, created_at='2025-09-16T10:41:44.797253+00:00', parent_config={'configurable': {'thread_id': '1', 'checkpoint_ns': '', 'checkpoint_id': '1f092e9b-d14a-63fd-8000-b24bc1748929'}}, tasks=(PregelTask(id='13781a2a-5d64-295c-0dd7-075048c4c472', name='explain_joke', path=('__pregel_pull', 'explain_joke'), error=None, interrupts=(), state=None, result={'explaination': 'This joke is a play on words related to the Indian economy and the currency, the Indian rupee. Here\\'s a breakdown:\\n\\n- The joke starts by asking why the Indian rupee (the currency) went to therapy.\\n- The punchline explains that it went to therapy because it was feeling \"unstable.\" In economics, an unstable currency means it\\'s not stable in value, and its value fluctuates greatly.\\n- The second part of the punchline says it wants to work on its \"growth rate.\" This is a reference to economic growth, which is a measure of how quickly a country\\'s economy is growing. It\\'s a clever play on words because in economics, a growth rate is a numerical measure, but in a therapy context, growth rate could refer to personal growth and development.'}),), interrupts=()),\n",
       " StateSnapshot(values={'topic': 'Indian Economy'}, next=('generate_joke',), config={'configurable': {'thread_id': '1', 'checkpoint_ns': '', 'checkpoint_id': '1f092e9b-d14a-63fd-8000-b24bc1748929'}}, metadata={'source': 'loop', 'step': 0, 'parents': {}}, created_at='2025-09-16T10:41:44.576695+00:00', parent_config={'configurable': {'thread_id': '1', 'checkpoint_ns': '', 'checkpoint_id': '1f092e9b-d145-6e44-bfff-565bde99220a'}}, tasks=(PregelTask(id='ac40e73f-b5e4-7b32-0b2e-f77e21f4a979', name='generate_joke', path=('__pregel_pull', 'generate_joke'), error=None, interrupts=(), state=None, result={'joke': 'Why did the Indian rupee go to therapy?\\n\\nBecause it was feeling a little unstable and wanted to work on its growth rate.'}),), interrupts=()),\n",
       " StateSnapshot(values={}, next=('__start__',), config={'configurable': {'thread_id': '1', 'checkpoint_ns': '', 'checkpoint_id': '1f092e9b-d145-6e44-bfff-565bde99220a'}}, metadata={'source': 'input', 'step': -1, 'parents': {}}, created_at='2025-09-16T10:41:44.574921+00:00', parent_config=None, tasks=(PregelTask(id='c03a6274-c52b-e140-30c2-63a88636f69d', name='__start__', path=('__pregel_pull', '__start__'), error=None, interrupts=(), state=None, result={'topic': 'Indian Economy'}),), interrupts=())]"
      ]
     },
     "execution_count": 23,
     "metadata": {},
     "output_type": "execute_result"
    }
   ],
   "source": [
    "list(workflow.get_state_history(config1))"
   ]
  },
  {
   "cell_type": "code",
   "execution_count": 24,
   "id": "6cd1128c",
   "metadata": {},
   "outputs": [
    {
     "data": {
      "text/plain": [
       "7"
      ]
     },
     "execution_count": 24,
     "metadata": {},
     "output_type": "execute_result"
    }
   ],
   "source": [
    "len(list(workflow.get_state_history(config1)))"
   ]
  },
  {
   "cell_type": "markdown",
   "id": "46f32382",
   "metadata": {},
   "source": [
    "> Now here is More History 4 For previous and 3 For new time Travel History\n"
   ]
  },
  {
   "cell_type": "markdown",
   "id": "edc42644",
   "metadata": {},
   "source": [
    "**We can not only time travel but we can also update the state of at that particular checkpoint**\n"
   ]
  },
  {
   "cell_type": "markdown",
   "id": "3c98d7ec",
   "metadata": {},
   "source": [
    "## **Update State**\n"
   ]
  },
  {
   "cell_type": "code",
   "execution_count": null,
   "id": "daee3887",
   "metadata": {},
   "outputs": [
    {
     "data": {
      "text/plain": [
       "{'configurable': {'thread_id': '1',\n",
       "  'checkpoint_ns': '',\n",
       "  'checkpoint_id': '1f092ed3-648e-6fa9-8001-437a71153f44'}}"
      ]
     },
     "execution_count": 30,
     "metadata": {},
     "output_type": "execute_result"
    }
   ],
   "source": [
    "workflow.update_state(\n",
    "    {\n",
    "        \"configurable\": {\n",
    "            \"thread_id\": \"1\",\n",
    "            \"checkpoint_id\": \"1f092e9b-d14a-63fd-8000-b24bc1748929\",\n",
    "            \"checkpoint_ns\": \"\",\n",
    "        }\n",
    "    },\n",
    "    {\"topic\": \"Chinese Economy\"},\n",
    ")"
   ]
  },
  {
   "cell_type": "code",
   "execution_count": null,
   "id": "d9531b5e",
   "metadata": {},
   "outputs": [
    {
     "data": {
      "text/plain": [
       "{'topic': 'Indian Economy',\n",
       " 'joke': 'Why did the Indian rupee go to therapy? \\n\\nBecause it was feeling a little \"devalued\" and was struggling to \"make ends meet\" in a market that was \"inflationary\" and had a \"lot of black money\" involved.',\n",
       " 'explaination': 'This joke is making fun of the Indian rupee, which is the currency of India. Here\\'s a breakdown:\\n\\n- \"Feeling a little \\'devalued\\'\" refers to the rupee losing its value compared to other currencies, which happens when the economy is not doing well.\\n\\n- \"Struggling to \\'make ends meet\\'\" is a common phrase meaning to barely afford the basic necessities of life, which is a problem for many people in India due to inflation (rising prices).\\n\\n- \"In a market that was \\'inflationary\\'\" means the economy is experiencing high inflation, where prices keep rising.\\n\\n- \"And had a \\'lot of black money\\' involved\" refers to the widespread practice of tax evasion and money laundering in India, which is a major issue.\\n\\nSo, the joke is saying that the rupee is feeling bad because it\\'s experiencing all these economic problems and is seeking therapy to cope with them. The joke is making fun of the rupee\\'s situation in a lighthearted way.'}"
      ]
     },
     "execution_count": 31,
     "metadata": {},
     "output_type": "execute_result"
    }
   ],
   "source": [
    "workflow.invoke(\n",
    "    None,\n",
    "    {\n",
    "        \"configurable\": {\n",
    "            \"thread_id\": \"1\",\n",
    "            \"checkpoint_id\": \"1f092e9b-d14a-63fd-8000-b24bc1748929\",\n",
    "        }\n",
    "    },\n",
    ")"
   ]
  },
  {
   "cell_type": "code",
   "execution_count": 32,
   "id": "287e504c",
   "metadata": {},
   "outputs": [
    {
     "data": {
      "text/plain": [
       "[StateSnapshot(values={'topic': 'Indian Economy', 'joke': 'Why did the Indian rupee go to therapy? \\n\\nBecause it was feeling a little \"devalued\" and was struggling to \"make ends meet\" in a market that was \"inflationary\" and had a \"lot of black money\" involved.', 'explaination': 'This joke is making fun of the Indian rupee, which is the currency of India. Here\\'s a breakdown:\\n\\n- \"Feeling a little \\'devalued\\'\" refers to the rupee losing its value compared to other currencies, which happens when the economy is not doing well.\\n\\n- \"Struggling to \\'make ends meet\\'\" is a common phrase meaning to barely afford the basic necessities of life, which is a problem for many people in India due to inflation (rising prices).\\n\\n- \"In a market that was \\'inflationary\\'\" means the economy is experiencing high inflation, where prices keep rising.\\n\\n- \"And had a \\'lot of black money\\' involved\" refers to the widespread practice of tax evasion and money laundering in India, which is a major issue.\\n\\nSo, the joke is saying that the rupee is feeling bad because it\\'s experiencing all these economic problems and is seeking therapy to cope with them. The joke is making fun of the rupee\\'s situation in a lighthearted way.'}, next=(), config={'configurable': {'thread_id': '1', 'checkpoint_ns': '', 'checkpoint_id': '1f092ed4-93b3-6133-8002-96d31a0105e2'}}, metadata={'source': 'loop', 'step': 2, 'parents': {}}, created_at='2025-09-16T11:07:08.200554+00:00', parent_config={'configurable': {'thread_id': '1', 'checkpoint_ns': '', 'checkpoint_id': '1f092ed4-8ee6-6eab-8001-371584bdd1e7'}}, tasks=(), interrupts=()),\n",
       " StateSnapshot(values={'topic': 'Indian Economy', 'joke': 'Why did the Indian rupee go to therapy? \\n\\nBecause it was feeling a little \"devalued\" and was struggling to \"make ends meet\" in a market that was \"inflationary\" and had a \"lot of black money\" involved.'}, next=('explain_joke',), config={'configurable': {'thread_id': '1', 'checkpoint_ns': '', 'checkpoint_id': '1f092ed4-8ee6-6eab-8001-371584bdd1e7'}}, metadata={'source': 'loop', 'step': 1, 'parents': {}}, created_at='2025-09-16T11:07:07.697500+00:00', parent_config={'configurable': {'thread_id': '1', 'checkpoint_ns': '', 'checkpoint_id': '1f092e9b-d14a-63fd-8000-b24bc1748929'}}, tasks=(PregelTask(id='b739add8-d200-ffd7-afc1-663ced620187', name='explain_joke', path=('__pregel_pull', 'explain_joke'), error=None, interrupts=(), state=None, result={'explaination': 'This joke is making fun of the Indian rupee, which is the currency of India. Here\\'s a breakdown:\\n\\n- \"Feeling a little \\'devalued\\'\" refers to the rupee losing its value compared to other currencies, which happens when the economy is not doing well.\\n\\n- \"Struggling to \\'make ends meet\\'\" is a common phrase meaning to barely afford the basic necessities of life, which is a problem for many people in India due to inflation (rising prices).\\n\\n- \"In a market that was \\'inflationary\\'\" means the economy is experiencing high inflation, where prices keep rising.\\n\\n- \"And had a \\'lot of black money\\' involved\" refers to the widespread practice of tax evasion and money laundering in India, which is a major issue.\\n\\nSo, the joke is saying that the rupee is feeling bad because it\\'s experiencing all these economic problems and is seeking therapy to cope with them. The joke is making fun of the rupee\\'s situation in a lighthearted way.'}),), interrupts=()),\n",
       " StateSnapshot(values={'topic': 'Chinese Economy'}, next=('generate_joke',), config={'configurable': {'thread_id': '1', 'checkpoint_ns': '', 'checkpoint_id': '1f092ed3-648e-6fa9-8001-437a71153f44'}}, metadata={'source': 'update', 'step': 1, 'parents': {}}, created_at='2025-09-16T11:06:36.413927+00:00', parent_config={'configurable': {'thread_id': '1', 'checkpoint_ns': '', 'checkpoint_id': '1f092e9b-d14a-63fd-8000-b24bc1748929'}}, tasks=(PregelTask(id='7f091de4-1fd1-5a5a-0b63-614df91cb12e', name='generate_joke', path=('__pregel_pull', 'generate_joke'), error=None, interrupts=(), state=None, result=None),), interrupts=()),\n",
       " StateSnapshot(values={'topic': 'Indian Economy', 'joke': 'Why did the Indian rupee go to therapy?\\n\\nBecause it was feeling devalued and had a lot of inflation to deal with!', 'explaination': 'This is a play on words. The joke is using the phrase \"feeling devalued\" to have a double meaning. \\n\\n- \\'Feeling devalued\\' can mean that the Indian rupee (a type of currency) is not valued or respected as much as it used to be. This is a common issue with many currencies.\\n- \\'Devalued\\' can also mean that the rupee is not feeling good or is experiencing emotional distress, as it would in therapy.\\n\\nThe punchline is funny because it\\'s making a connection between the currency\\'s economic issues (inflation) and its supposed emotional state (\\'feeling devalued\\').'}, next=(), config={'configurable': {'thread_id': '1', 'checkpoint_ns': '', 'checkpoint_id': '1f092eac-5eca-60ee-8002-ebdfb14e8344'}}, metadata={'source': 'loop', 'step': 2, 'parents': {}}, created_at='2025-09-16T10:49:08.910683+00:00', parent_config={'configurable': {'thread_id': '1', 'checkpoint_ns': '', 'checkpoint_id': '1f092eac-5b7a-6206-8001-c6bb6729d5c7'}}, tasks=(), interrupts=()),\n",
       " StateSnapshot(values={'topic': 'Indian Economy', 'joke': 'Why did the Indian rupee go to therapy?\\n\\nBecause it was feeling devalued and had a lot of inflation to deal with!'}, next=('explain_joke',), config={'configurable': {'thread_id': '1', 'checkpoint_ns': '', 'checkpoint_id': '1f092eac-5b7a-6206-8001-c6bb6729d5c7'}}, metadata={'source': 'loop', 'step': 1, 'parents': {}}, created_at='2025-09-16T10:49:08.563376+00:00', parent_config={'configurable': {'thread_id': '1', 'checkpoint_ns': '', 'checkpoint_id': '1f092eac-59da-6309-8000-16b67ae616e1'}}, tasks=(PregelTask(id='042acb6e-7488-b90a-cba5-c32a04ae41fd', name='explain_joke', path=('__pregel_pull', 'explain_joke'), error=None, interrupts=(), state=None, result={'explaination': 'This is a play on words. The joke is using the phrase \"feeling devalued\" to have a double meaning. \\n\\n- \\'Feeling devalued\\' can mean that the Indian rupee (a type of currency) is not valued or respected as much as it used to be. This is a common issue with many currencies.\\n- \\'Devalued\\' can also mean that the rupee is not feeling good or is experiencing emotional distress, as it would in therapy.\\n\\nThe punchline is funny because it\\'s making a connection between the currency\\'s economic issues (inflation) and its supposed emotional state (\\'feeling devalued\\').'}),), interrupts=()),\n",
       " StateSnapshot(values={'topic': 'Indian Economy'}, next=('generate_joke',), config={'configurable': {'thread_id': '1', 'checkpoint_ns': '', 'checkpoint_id': '1f092eac-59da-6309-8000-16b67ae616e1'}}, metadata={'source': 'loop', 'step': 0, 'parents': {}}, created_at='2025-09-16T10:49:08.393008+00:00', parent_config={'configurable': {'thread_id': '1', 'checkpoint_ns': '', 'checkpoint_id': '1f092e9b-d145-6e44-bfff-565bde99220a'}}, tasks=(PregelTask(id='50f8d1c1-4b63-2fad-4871-260617c54f02', name='generate_joke', path=('__pregel_pull', 'generate_joke'), error=None, interrupts=(), state=None, result={'joke': 'Why did the Indian rupee go to therapy?\\n\\nBecause it was feeling devalued and had a lot of inflation to deal with!'}),), interrupts=()),\n",
       " StateSnapshot(values={'topic': 'Indian Economy', 'joke': 'Why did the Indian rupee go to therapy?\\n\\nBecause it was feeling a little unstable and wanted to work on its growth rate.', 'explaination': 'This joke is a play on words related to the Indian economy and the currency, the Indian rupee. Here\\'s a breakdown:\\n\\n- The joke starts by asking why the Indian rupee (the currency) went to therapy.\\n- The punchline explains that it went to therapy because it was feeling \"unstable.\" In economics, an unstable currency means it\\'s not stable in value, and its value fluctuates greatly.\\n- The second part of the punchline says it wants to work on its \"growth rate.\" This is a reference to economic growth, which is a measure of how quickly a country\\'s economy is growing. It\\'s a clever play on words because in economics, a growth rate is a numerical measure, but in a therapy context, growth rate could refer to personal growth and development.'}, next=(), config={'configurable': {'thread_id': '1', 'checkpoint_ns': '', 'checkpoint_id': '1f092e9b-d733-697a-8002-508196a48152'}}, metadata={'source': 'loop', 'step': 2, 'parents': {}}, created_at='2025-09-16T10:41:45.196551+00:00', parent_config={'configurable': {'thread_id': '1', 'checkpoint_ns': '', 'checkpoint_id': '1f092e9b-d364-6bf1-8001-ba7465a8dae8'}}, tasks=(), interrupts=()),\n",
       " StateSnapshot(values={'topic': 'Indian Economy', 'joke': 'Why did the Indian rupee go to therapy?\\n\\nBecause it was feeling a little unstable and wanted to work on its growth rate.'}, next=('explain_joke',), config={'configurable': {'thread_id': '1', 'checkpoint_ns': '', 'checkpoint_id': '1f092e9b-d364-6bf1-8001-ba7465a8dae8'}}, metadata={'source': 'loop', 'step': 1, 'parents': {}}, created_at='2025-09-16T10:41:44.797253+00:00', parent_config={'configurable': {'thread_id': '1', 'checkpoint_ns': '', 'checkpoint_id': '1f092e9b-d14a-63fd-8000-b24bc1748929'}}, tasks=(PregelTask(id='13781a2a-5d64-295c-0dd7-075048c4c472', name='explain_joke', path=('__pregel_pull', 'explain_joke'), error=None, interrupts=(), state=None, result={'explaination': 'This joke is a play on words related to the Indian economy and the currency, the Indian rupee. Here\\'s a breakdown:\\n\\n- The joke starts by asking why the Indian rupee (the currency) went to therapy.\\n- The punchline explains that it went to therapy because it was feeling \"unstable.\" In economics, an unstable currency means it\\'s not stable in value, and its value fluctuates greatly.\\n- The second part of the punchline says it wants to work on its \"growth rate.\" This is a reference to economic growth, which is a measure of how quickly a country\\'s economy is growing. It\\'s a clever play on words because in economics, a growth rate is a numerical measure, but in a therapy context, growth rate could refer to personal growth and development.'}),), interrupts=()),\n",
       " StateSnapshot(values={'topic': 'Indian Economy'}, next=('generate_joke',), config={'configurable': {'thread_id': '1', 'checkpoint_ns': '', 'checkpoint_id': '1f092e9b-d14a-63fd-8000-b24bc1748929'}}, metadata={'source': 'loop', 'step': 0, 'parents': {}}, created_at='2025-09-16T10:41:44.576695+00:00', parent_config={'configurable': {'thread_id': '1', 'checkpoint_ns': '', 'checkpoint_id': '1f092e9b-d145-6e44-bfff-565bde99220a'}}, tasks=(PregelTask(id='ac40e73f-b5e4-7b32-0b2e-f77e21f4a979', name='generate_joke', path=('__pregel_pull', 'generate_joke'), error=None, interrupts=(), state=None, result={'joke': 'Why did the Indian rupee go to therapy?\\n\\nBecause it was feeling a little unstable and wanted to work on its growth rate.'}),), interrupts=()),\n",
       " StateSnapshot(values={}, next=('__start__',), config={'configurable': {'thread_id': '1', 'checkpoint_ns': '', 'checkpoint_id': '1f092e9b-d145-6e44-bfff-565bde99220a'}}, metadata={'source': 'input', 'step': -1, 'parents': {}}, created_at='2025-09-16T10:41:44.574921+00:00', parent_config=None, tasks=(PregelTask(id='c03a6274-c52b-e140-30c2-63a88636f69d', name='__start__', path=('__pregel_pull', '__start__'), error=None, interrupts=(), state=None, result={'topic': 'Indian Economy'}),), interrupts=())]"
      ]
     },
     "execution_count": 32,
     "metadata": {},
     "output_type": "execute_result"
    }
   ],
   "source": [
    "list(workflow.get_state_history(config1))"
   ]
  },
  {
   "cell_type": "markdown",
   "id": "ff218218",
   "metadata": {},
   "source": [
    "Now the main thing here is to find the perfect checkpoint.\n",
    "\n",
    "---\n",
    "\n",
    "It is somewhat like git branching we are creating branch at a point for changing states.\n",
    "\n",
    "---\n",
    "\n",
    "Wont be used that much if we are not making that much complex workflows\n"
   ]
  },
  {
   "cell_type": "code",
   "execution_count": null,
   "id": "f57adf3c",
   "metadata": {},
   "outputs": [],
   "source": []
  }
 ],
 "metadata": {
  "kernelspec": {
   "display_name": "LangGraph (3.13.7)",
   "language": "python",
   "name": "python3"
  },
  "language_info": {
   "codemirror_mode": {
    "name": "ipython",
    "version": 3
   },
   "file_extension": ".py",
   "mimetype": "text/x-python",
   "name": "python",
   "nbconvert_exporter": "python",
   "pygments_lexer": "ipython3",
   "version": "3.13.7"
  }
 },
 "nbformat": 4,
 "nbformat_minor": 5
}
