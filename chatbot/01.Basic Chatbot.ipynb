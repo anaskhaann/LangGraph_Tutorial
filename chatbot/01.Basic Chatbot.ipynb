{
 "cells": [
  {
   "cell_type": "markdown",
   "id": "1121e490",
   "metadata": {},
   "source": [
    "In this we are making a ChatBot with the message history\n"
   ]
  },
  {
   "cell_type": "markdown",
   "id": "c564257a",
   "metadata": {},
   "source": [
    "States:\n",
    "\n",
    "- messages between user and llm\n"
   ]
  },
  {
   "cell_type": "code",
   "execution_count": 1,
   "id": "c913056d",
   "metadata": {},
   "outputs": [],
   "source": [
    "from langgraph.graph import StateGraph, START, END\n",
    "from dotenv import load_dotenv\n",
    "from typing import TypedDict, Annotated\n",
    "from langchain_core.messages import BaseMessage, HumanMessage\n",
    "from langchain_groq import ChatGroq"
   ]
  },
  {
   "cell_type": "code",
   "execution_count": 2,
   "id": "9746a364",
   "metadata": {},
   "outputs": [
    {
     "data": {
      "text/plain": [
       "True"
      ]
     },
     "execution_count": 2,
     "metadata": {},
     "output_type": "execute_result"
    }
   ],
   "source": [
    "load_dotenv()"
   ]
  },
  {
   "cell_type": "code",
   "execution_count": 3,
   "id": "c7a9a1e4",
   "metadata": {},
   "outputs": [],
   "source": [
    "from langgraph.graph.message import add_messages\n",
    "\n",
    "\n",
    "class ChatState(TypedDict):\n",
    "    # Rather than storing message as string store them as Base Message Class->This list can contain all 4 messages, human, ai, system ,tool\n",
    "    # We also need to add previous value not update\n",
    "    # LangGraph inbuilt add message is more optimized\n",
    "\n",
    "    messages: Annotated[list[BaseMessage], add_messages]"
   ]
  },
  {
   "cell_type": "code",
   "execution_count": 4,
   "id": "332a2991",
   "metadata": {},
   "outputs": [],
   "source": [
    "llm = ChatGroq(model=\"llama-3.1-8b-instant\")"
   ]
  },
  {
   "cell_type": "code",
   "execution_count": 5,
   "id": "f74fc58e",
   "metadata": {},
   "outputs": [],
   "source": [
    "def chat_node(state: ChatState):\n",
    "    # user query from state\n",
    "    message = state[\"messages\"]\n",
    "\n",
    "    # send query to llm\n",
    "    response = llm.invoke(message)\n",
    "\n",
    "    # store response\n",
    "    return {\"messages\": [response]}"
   ]
  },
  {
   "cell_type": "code",
   "execution_count": 6,
   "id": "9ec160c2",
   "metadata": {},
   "outputs": [],
   "source": [
    "graph = StateGraph(ChatState)\n",
    "\n",
    "graph.add_node(\"chat_node\", chat_node)\n",
    "\n",
    "graph.add_edge(START, \"chat_node\")\n",
    "graph.add_edge(\"chat_node\", END)\n",
    "\n",
    "workflow = graph.compile()"
   ]
  },
  {
   "cell_type": "code",
   "execution_count": 7,
   "id": "7ca3abc0",
   "metadata": {},
   "outputs": [
    {
     "data": {
      "image/png": "[encoded data removed]",
      "text/plain": [
       "<langgraph.graph.state.CompiledStateGraph object at 0x000001EAFA32E270>"
      ]
     },
     "execution_count": 7,
     "metadata": {},
     "output_type": "execute_result"
    }
   ],
   "source": [
    "workflow"
   ]
  },
  {
   "cell_type": "code",
   "execution_count": 8,
   "id": "247ee9f4",
   "metadata": {},
   "outputs": [],
   "source": [
    "\"\"\"\n",
    "Lets test\n",
    "\"\"\"\n",
    "\n",
    "initial_state = {\"messages\": [\"What is the capital of India\"]}\n",
    "\n",
    "result = workflow.invoke(initial_state)"
   ]
  },
  {
   "cell_type": "code",
   "execution_count": 9,
   "id": "535e948d",
   "metadata": {},
   "outputs": [
    {
     "data": {
      "text/plain": [
       "{'messages': [HumanMessage(content='What is the capital of India', additional_kwargs={}, response_metadata={}, id='e5dde2ea-9f01-43e0-888c-b4719e35735f'),\n",
       "  AIMessage(content='The capital of India is New Delhi.', additional_kwargs={}, response_metadata={'token_usage': {'completion_tokens': 9, 'prompt_tokens': 41, 'total_tokens': 50, 'completion_time': 0.001816735, 'prompt_time': 0.006084802, 'queue_time': 0.050438107, 'total_time': 0.007901537}, 'model_name': 'llama-3.1-8b-instant', 'system_fingerprint': 'fp_46fc01befd', 'service_tier': 'on_demand', 'finish_reason': 'stop', 'logprobs': None}, id='run--ebee7e62-df3e-4a94-a0f5-66138d9e07f4-0', usage_metadata={'input_tokens': 41, 'output_tokens': 9, 'total_tokens': 50})]}"
      ]
     },
     "execution_count": 9,
     "metadata": {},
     "output_type": "execute_result"
    }
   ],
   "source": [
    "result"
   ]
  },
  {
   "cell_type": "code",
   "execution_count": 10,
   "id": "01edeaad",
   "metadata": {},
   "outputs": [
    {
     "data": {
      "text/plain": [
       "[HumanMessage(content='What is the capital of India', additional_kwargs={}, response_metadata={}, id='e5dde2ea-9f01-43e0-888c-b4719e35735f'),\n",
       " AIMessage(content='The capital of India is New Delhi.', additional_kwargs={}, response_metadata={'token_usage': {'completion_tokens': 9, 'prompt_tokens': 41, 'total_tokens': 50, 'completion_time': 0.001816735, 'prompt_time': 0.006084802, 'queue_time': 0.050438107, 'total_time': 0.007901537}, 'model_name': 'llama-3.1-8b-instant', 'system_fingerprint': 'fp_46fc01befd', 'service_tier': 'on_demand', 'finish_reason': 'stop', 'logprobs': None}, id='run--ebee7e62-df3e-4a94-a0f5-66138d9e07f4-0', usage_metadata={'input_tokens': 41, 'output_tokens': 9, 'total_tokens': 50})]"
      ]
     },
     "execution_count": 10,
     "metadata": {},
     "output_type": "execute_result"
    }
   ],
   "source": [
    "result[\"messages\"]"
   ]
  },
  {
   "cell_type": "code",
   "execution_count": 11,
   "id": "dd69e73f",
   "metadata": {},
   "outputs": [
    {
     "data": {
      "text/plain": [
       "'What is the capital of India'"
      ]
     },
     "execution_count": 11,
     "metadata": {},
     "output_type": "execute_result"
    }
   ],
   "source": [
    "result[\"messages\"][0].content"
   ]
  },
  {
   "cell_type": "code",
   "execution_count": 12,
   "id": "49951688",
   "metadata": {},
   "outputs": [
    {
     "data": {
      "text/plain": [
       "'The capital of India is New Delhi.'"
      ]
     },
     "execution_count": 12,
     "metadata": {},
     "output_type": "execute_result"
    }
   ],
   "source": [
    "result[\"messages\"][-1].content"
   ]
  },
  {
   "cell_type": "code",
   "execution_count": 13,
   "id": "b07faf0c",
   "metadata": {},
   "outputs": [
    {
     "name": "stdout",
     "output_type": "stream",
     "text": [
      "User:  Hello who are you\n",
      "====================\n",
      "AI:  I'm an AI assistant, which means I'm a computer program designed to simulate conversations and answer questions to the best of my knowledge. I'm here to help with any information or tasks you may need assistance with.\n",
      "\n",
      "I don't have a personal identity, but I'm a friendly and helpful tool that's always ready to chat. I can provide information on a wide range of topics, from science and history to entertainment and culture.\n",
      "\n",
      "What would you like to talk about?\n",
      "User:  what are pre requisite for deep learning , tell in short\n",
      "====================\n",
      "AI:  Here are the pre-requisites for deep learning:\n",
      "\n",
      "1. **Mathematics**:\n",
      "\t* Linear Algebra\n",
      "\t* Calculus (Multivariable and Differential)\n",
      "\t* Probability and Statistics\n",
      "\t* Vector Calculus\n",
      "2. **Programming**:\n",
      "\t* Python (preferably with NumPy, pandas, and Matplotlib)\n",
      "\t* Familiarity with a deep learning framework (e.g., TensorFlow, PyTorch)\n",
      "3. **Computer Science**:\n",
      "\t* Data Structures (e.g., arrays, linked lists, trees)\n",
      "\t* Algorithms (e.g., sorting, searching)\n",
      "\t* Computer Vision and Image Processing basics\n",
      "4. **Data Science**:\n",
      "\t* Data Preprocessing and Cleaning\n",
      "\t* Data Visualization\n",
      "\t* Machine Learning fundamentals (supervised and unsupervised learning)\n",
      "5. **Additional Knowledge**:\n",
      "\t* Familiarity with popular deep learning architectures (e.g., CNN, RNN, LSTM)\n",
      "\t* Understanding of optimization algorithms (e.g., stochastic gradient descent, Adam)\n",
      "\t* Knowledge of regularization techniques (e.g., dropout, L1, L2 regularization)\n",
      "User:  bye\n",
      "====================\n"
     ]
    }
   ],
   "source": [
    "# Basic interactive chatbot\n",
    "\n",
    "while True:\n",
    "    user_input = input(\"Enter Message: \")\n",
    "    print(\"User: \", user_input)\n",
    "    print(\"=\" * 20)\n",
    "\n",
    "    if user_input.strip().lower() in [\"exit\", \"quit\", \"bye\"]:\n",
    "        break\n",
    "\n",
    "    response = workflow.invoke({\"messages\": [HumanMessage(user_input)]})\n",
    "\n",
    "    # Show last message which will always be AI message\n",
    "    print(\"AI: \", response[\"messages\"][-1].content)"
   ]
  },
  {
   "cell_type": "markdown",
   "id": "5faadce8",
   "metadata": {},
   "source": [
    "- Now this Chat Bot has a big problem because it does not have memory.\n",
    "- And the reason is we are using the loop and we are ending the message after chat node.\n",
    "- We are invoking in loop, so everytime we invoke all states are getting clear and it has a fresh list\n"
   ]
  },
  {
   "cell_type": "code",
   "execution_count": null,
   "id": "396be522",
   "metadata": {},
   "outputs": [
    {
     "name": "stdout",
     "output_type": "stream",
     "text": [
      "User:  Hellp my name is Anas\n",
      "====================\n",
      "AI:  Nice to meet you, Anas. Is there something I can help you with today?\n",
      "User:  What is my name\n",
      "====================\n",
      "AI:  I don't have any information about your name. I'm a large language model, I don't have personal knowledge or access to your personal information. Each time you interact with me, it's a new conversation and I don't retain any information from previous conversations.\n",
      "\n",
      "If you'd like to share your name with me, I can use it in our conversation. Alternatively, you can remain anonymous and we can still have a conversation.\n",
      "User:  exit\n",
      "====================\n"
     ]
    }
   ],
   "source": [
    "while True:\n",
    "    user_input = input(\"Enter Message: \")\n",
    "    print(\"User: \", user_input)\n",
    "    print(\"=\" * 20)\n",
    "\n",
    "    if user_input.strip().lower() in [\"exit\", \"quit\", \"bye\"]:\n",
    "        break\n",
    "\n",
    "    response = workflow.invoke({\"messages\": [HumanMessage(user_input)]})\n",
    "\n",
    "    # Show last message which will always be AI message\n",
    "    print(\"AI: \", response[\"messages\"][-1].content)"
   ]
  },
  {
   "cell_type": "code",
   "execution_count": null,
   "id": "54e528d8",
   "metadata": {},
   "outputs": [],
   "source": []
  }
 ],
 "metadata": {
  "kernelspec": {
   "display_name": "LangGraph (3.13.7)",
   "language": "python",
   "name": "python3"
  },
  "language_info": {
   "codemirror_mode": {
    "name": "ipython",
    "version": 3
   },
   "file_extension": ".py",
   "mimetype": "text/x-python",
   "name": "python",
   "nbconvert_exporter": "python",
   "pygments_lexer": "ipython3",
   "version": "3.13.7"
  }
 },
 "nbformat": 4,
 "nbformat_minor": 5
}
