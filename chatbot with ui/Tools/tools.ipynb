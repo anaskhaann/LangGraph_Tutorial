{
 "cells": [
  {
   "cell_type": "code",
   "execution_count": 1,
   "id": "8f6513ed",
   "metadata": {},
   "outputs": [],
   "source": [
    "from dotenv import load_dotenv\n",
    "from typing import TypedDict, Annotated\n",
    "from langgraph.graph import START, END, StateGraph\n",
    "from langchain_core.messages import BaseMessage, HumanMessage\n",
    "from langchain_groq import ChatGroq\n",
    "from langgraph.graph.message import add_messages\n",
    "\n",
    "from langchain_core.tools import tool\n",
    "from langchain_community.tools import DuckDuckGoSearchRun\n",
    "from langgraph.prebuilt import ToolNode, tools_condition\n",
    "\n",
    "import requests\n",
    "import random"
   ]
  },
  {
   "cell_type": "code",
   "execution_count": 2,
   "id": "d954ad25",
   "metadata": {},
   "outputs": [
    {
     "data": {
      "text/plain": [
       "True"
      ]
     },
     "execution_count": 2,
     "metadata": {},
     "output_type": "execute_result"
    }
   ],
   "source": [
    "load_dotenv()"
   ]
  },
  {
   "cell_type": "code",
   "execution_count": 3,
   "id": "ae287dcc",
   "metadata": {},
   "outputs": [],
   "source": [
    "llm = ChatGroq(model=\"llama-3.3-70b-versatile\")"
   ]
  },
  {
   "cell_type": "code",
   "execution_count": 46,
   "id": "326fb14b",
   "metadata": {},
   "outputs": [],
   "source": [
    "# Creating Tools\n",
    "search_tool = DuckDuckGoSearchRun()\n",
    "\n",
    "\n",
    "# Custom Calulator Tool\n",
    "@tool\n",
    "def calculator(first_num: float, second_num: float, operation: str) -> dict:\n",
    "    \"\"\"\n",
    "    Perform a basic arithmetic operation on two numbers.\n",
    "    Supported operations are add, subtract, multiply, divide\n",
    "    \"\"\"\n",
    "\n",
    "    try:\n",
    "        if operation == \"add\":\n",
    "            result = first_num + second_num\n",
    "        elif operation == \"subtract\":\n",
    "            result = abs(first_num - second_num)\n",
    "        elif operation == \"multiply\":\n",
    "            result = round(first_num * second_num, 2)\n",
    "        elif operation == \"divide\":\n",
    "            if second_num == 0:\n",
    "                result = 0\n",
    "            result = round(first_num / second_num, 2)\n",
    "        else:\n",
    "            return {\"Error\": f\"Invalid Operation{operation}\"}\n",
    "\n",
    "        return {\n",
    "            \"first_num\": first_num,\n",
    "            \"second_num\": second_num,\n",
    "            \"operation\": operation,\n",
    "            \"result\": result,\n",
    "        }\n",
    "    except Exception as e:\n",
    "        return {\"error\": str(e)}\n",
    "\n",
    "\n",
    "# get stock price\n",
    "@tool\n",
    "def get_stock_price(symbol: str) -> dict:\n",
    "    \"\"\"\n",
    "    Get the currect stock price of the provided symbol of Indian Stock Exchange\n",
    "    \"\"\"\n",
    "\n",
    "    url = f\"https://api.freeapi.app/api/v1/public/stocks/{symbol}\"\n",
    "\n",
    "    headers = {\"accept\": \"application/json\"}\n",
    "    response = requests.get(url=url, headers=headers)\n",
    "\n",
    "    return response.json()"
   ]
  },
  {
   "cell_type": "code",
   "execution_count": 47,
   "id": "c9814d59",
   "metadata": {},
   "outputs": [],
   "source": [
    "# List of tools\n",
    "all_tools = [search_tool, calculator, get_stock_price]\n",
    "# Bind all tools with llm\n",
    "llm_with_tool = llm.bind_tools(all_tools)"
   ]
  },
  {
   "cell_type": "code",
   "execution_count": 48,
   "id": "1d280b1d",
   "metadata": {},
   "outputs": [],
   "source": [
    "class ChatState(TypedDict):\n",
    "    messages: Annotated[list[BaseMessage], add_messages]"
   ]
  },
  {
   "cell_type": "code",
   "execution_count": 49,
   "id": "2ee28f97",
   "metadata": {},
   "outputs": [],
   "source": [
    "# graph nodes\n",
    "def chat_node(state: ChatState) -> ChatState:\n",
    "    \"\"\"LLM node that may answer or request tool call\"\"\"\n",
    "\n",
    "    messages = state[\"messages\"]\n",
    "    response = llm_with_tool.invoke(messages)\n",
    "\n",
    "    return {\"messages\": [response]}\n",
    "\n",
    "\n",
    "# *********************************************\n",
    "\n",
    "# Tool Node : It will have all tools\n",
    "tool_node = ToolNode(all_tools)"
   ]
  },
  {
   "cell_type": "code",
   "execution_count": 63,
   "id": "9d3f1a6c",
   "metadata": {},
   "outputs": [
    {
     "data": {
      "text/plain": [
       "<langgraph.graph.state.StateGraph at 0x1ee5502e190>"
      ]
     },
     "execution_count": 63,
     "metadata": {},
     "output_type": "execute_result"
    }
   ],
   "source": [
    "# create graph\n",
    "graph = StateGraph(ChatState)\n",
    "graph.add_node(\"chat_node\", chat_node)\n",
    "\n",
    "# We have to make the node name for tool node as tools because tool_condition explicitly have the literal end & tools so that it can identify which node to go\n",
    "graph.add_node(\"tools\", tool_node)"
   ]
  },
  {
   "cell_type": "code",
   "execution_count": 64,
   "id": "348c7b4d",
   "metadata": {},
   "outputs": [
    {
     "data": {
      "text/plain": [
       "<langgraph.graph.state.StateGraph at 0x1ee5502e190>"
      ]
     },
     "execution_count": 64,
     "metadata": {},
     "output_type": "execute_result"
    }
   ],
   "source": [
    "# edges\n",
    "\n",
    "graph.add_edge(START, \"chat_node\")\n",
    "\n",
    "\"\"\"\n",
    "If LLM asked for tool, then go to tool node else finish\n",
    "\"\"\"\n",
    "\n",
    "graph.add_conditional_edges(\"chat_node\", tools_condition)\n"
   ]
  },
  {
   "cell_type": "code",
   "execution_count": 65,
   "id": "35bcafe5",
   "metadata": {},
   "outputs": [
    {
     "data": {
      "text/plain": [
       "<langgraph.graph.state.StateGraph at 0x1ee5502e190>"
      ]
     },
     "execution_count": 65,
     "metadata": {},
     "output_type": "execute_result"
    }
   ],
   "source": [
    "# Add another node from tool to chat node so that outputs are polish and we can perform multistep tool calling\n",
    "graph.add_edge(\"tools\", \"chat_node\")"
   ]
  },
  {
   "cell_type": "code",
   "execution_count": 66,
   "id": "dd11e362",
   "metadata": {},
   "outputs": [],
   "source": [
    "workflow = graph.compile()"
   ]
  },
  {
   "cell_type": "code",
   "execution_count": 59,
   "id": "4a197d3a",
   "metadata": {},
   "outputs": [],
   "source": [
    "# workflow"
   ]
  },
  {
   "cell_type": "markdown",
   "id": "bda19417",
   "metadata": {},
   "source": [
    "> Now see the problems in the output. Some outputs are not structured so that Human can understand it. And our graph end after the tool, But we need to get the output of the tool to go to chat node so that we can polish its output.\n",
    "\n",
    "> If we need 2 tools in a single call then we cannot do that suppose search stock price and calculate price to buy x amount of share so it will not work. Because it will direct end after the tool output and cannot get to 2nd tool.\n"
   ]
  },
  {
   "cell_type": "markdown",
   "id": "215d5e33",
   "metadata": {},
   "source": [
    "**So we have to create a node from tools to chat Node**\n"
   ]
  },
  {
   "cell_type": "code",
   "execution_count": 74,
   "id": "db16ceb3",
   "metadata": {},
   "outputs": [],
   "source": [
    "chat_output = workflow.invoke(\n",
    "    {\"messages\": [HumanMessage(content=\"What is the stock price of RELIANCE\")]}\n",
    ")"
   ]
  },
  {
   "cell_type": "code",
   "execution_count": 68,
   "id": "79145e69",
   "metadata": {},
   "outputs": [
    {
     "name": "stdout",
     "output_type": "stream",
     "text": [
      "{'messages': [HumanMessage(content='What is the stock price of RELIANCE', additional_kwargs={}, response_metadata={}, id='fb12f122-012e-4d8b-a801-471b7850f503'), AIMessage(content='', additional_kwargs={'tool_calls': [{'id': 'qf86e9whs', 'function': {'arguments': '{\"symbol\":\"RELIANCE\"}', 'name': 'get_stock_price'}, 'type': 'function'}]}, response_metadata={'token_usage': {'completion_tokens': 17, 'prompt_tokens': 440, 'total_tokens': 457, 'completion_time': 0.035342374, 'prompt_time': 0.036509896, 'queue_time': 0.057968813, 'total_time': 0.07185227}, 'model_name': 'llama-3.3-70b-versatile', 'system_fingerprint': 'fp_155ab82e98', 'service_tier': 'on_demand', 'finish_reason': 'tool_calls', 'logprobs': None}, id='run--06dd278a-a277-4d4f-a786-afdddae9c99a-0', tool_calls=[{'name': 'get_stock_price', 'args': {'symbol': 'RELIANCE'}, 'id': 'qf86e9whs', 'type': 'tool_call'}], usage_metadata={'input_tokens': 440, 'output_tokens': 17, 'total_tokens': 457}), ToolMessage(content='{\"statusCode\": 200, \"data\": {\"Name\": \"Reliance Industries Limited\", \"Symbol\": \"RELIANCE\", \"ListingDate\": \"29-Nov-95\", \"ISIN\": \"INE002A01018\", \"MarketCap\": \"₹ 17,56,946 Cr.\", \"CurrentPrice\": \"₹ 2,597\", \"HighLow\": \"₹ 2,632 / 2,000\", \"StockPE\": \"25.7\", \"BookValue\": \"₹ 1,110\", \"DividendYield\": \"0.35 %\", \"ROCE\": \"9.14 %\", \"ROE\": \"8.94 %\", \"FaceValue\": \"₹ 10.0\"}, \"message\": \"Stock fetched successfully\", \"success\": true}', name='get_stock_price', id='aa995f9b-0810-4926-b219-1cf36860120e', tool_call_id='qf86e9whs'), AIMessage(content='The current stock price of RELIANCE is ₹ 2,597.', additional_kwargs={}, response_metadata={'token_usage': {'completion_tokens': 16, 'prompt_tokens': 636, 'total_tokens': 652, 'completion_time': 0.036170634, 'prompt_time': 0.052053884, 'queue_time': 0.491666194, 'total_time': 0.088224518}, 'model_name': 'llama-3.3-70b-versatile', 'system_fingerprint': 'fp_155ab82e98', 'service_tier': 'on_demand', 'finish_reason': 'stop', 'logprobs': None}, id='run--e45024e1-b2f2-4d14-8e7c-2043043f93ed-0', usage_metadata={'input_tokens': 636, 'output_tokens': 16, 'total_tokens': 652})]}\n"
     ]
    }
   ],
   "source": [
    "print(chat_output)"
   ]
  },
  {
   "cell_type": "code",
   "execution_count": 69,
   "id": "57bbdc7f",
   "metadata": {},
   "outputs": [
    {
     "name": "stdout",
     "output_type": "stream",
     "text": [
      "[HumanMessage(content='What is the stock price of RELIANCE', additional_kwargs={}, response_metadata={}, id='fb12f122-012e-4d8b-a801-471b7850f503'), AIMessage(content='', additional_kwargs={'tool_calls': [{'id': 'qf86e9whs', 'function': {'arguments': '{\"symbol\":\"RELIANCE\"}', 'name': 'get_stock_price'}, 'type': 'function'}]}, response_metadata={'token_usage': {'completion_tokens': 17, 'prompt_tokens': 440, 'total_tokens': 457, 'completion_time': 0.035342374, 'prompt_time': 0.036509896, 'queue_time': 0.057968813, 'total_time': 0.07185227}, 'model_name': 'llama-3.3-70b-versatile', 'system_fingerprint': 'fp_155ab82e98', 'service_tier': 'on_demand', 'finish_reason': 'tool_calls', 'logprobs': None}, id='run--06dd278a-a277-4d4f-a786-afdddae9c99a-0', tool_calls=[{'name': 'get_stock_price', 'args': {'symbol': 'RELIANCE'}, 'id': 'qf86e9whs', 'type': 'tool_call'}], usage_metadata={'input_tokens': 440, 'output_tokens': 17, 'total_tokens': 457}), ToolMessage(content='{\"statusCode\": 200, \"data\": {\"Name\": \"Reliance Industries Limited\", \"Symbol\": \"RELIANCE\", \"ListingDate\": \"29-Nov-95\", \"ISIN\": \"INE002A01018\", \"MarketCap\": \"₹ 17,56,946 Cr.\", \"CurrentPrice\": \"₹ 2,597\", \"HighLow\": \"₹ 2,632 / 2,000\", \"StockPE\": \"25.7\", \"BookValue\": \"₹ 1,110\", \"DividendYield\": \"0.35 %\", \"ROCE\": \"9.14 %\", \"ROE\": \"8.94 %\", \"FaceValue\": \"₹ 10.0\"}, \"message\": \"Stock fetched successfully\", \"success\": true}', name='get_stock_price', id='aa995f9b-0810-4926-b219-1cf36860120e', tool_call_id='qf86e9whs'), AIMessage(content='The current stock price of RELIANCE is ₹ 2,597.', additional_kwargs={}, response_metadata={'token_usage': {'completion_tokens': 16, 'prompt_tokens': 636, 'total_tokens': 652, 'completion_time': 0.036170634, 'prompt_time': 0.052053884, 'queue_time': 0.491666194, 'total_time': 0.088224518}, 'model_name': 'llama-3.3-70b-versatile', 'system_fingerprint': 'fp_155ab82e98', 'service_tier': 'on_demand', 'finish_reason': 'stop', 'logprobs': None}, id='run--e45024e1-b2f2-4d14-8e7c-2043043f93ed-0', usage_metadata={'input_tokens': 636, 'output_tokens': 16, 'total_tokens': 652})]\n"
     ]
    }
   ],
   "source": [
    "print(chat_output[\"messages\"])"
   ]
  },
  {
   "cell_type": "code",
   "execution_count": 70,
   "id": "1be68abd",
   "metadata": {},
   "outputs": [
    {
     "name": "stdout",
     "output_type": "stream",
     "text": [
      "content='The current stock price of RELIANCE is ₹ 2,597.' additional_kwargs={} response_metadata={'token_usage': {'completion_tokens': 16, 'prompt_tokens': 636, 'total_tokens': 652, 'completion_time': 0.036170634, 'prompt_time': 0.052053884, 'queue_time': 0.491666194, 'total_time': 0.088224518}, 'model_name': 'llama-3.3-70b-versatile', 'system_fingerprint': 'fp_155ab82e98', 'service_tier': 'on_demand', 'finish_reason': 'stop', 'logprobs': None} id='run--e45024e1-b2f2-4d14-8e7c-2043043f93ed-0' usage_metadata={'input_tokens': 636, 'output_tokens': 16, 'total_tokens': 652}\n"
     ]
    }
   ],
   "source": [
    "print(chat_output[\"messages\"][-1])"
   ]
  },
  {
   "cell_type": "code",
   "execution_count": 71,
   "id": "a38623a2",
   "metadata": {},
   "outputs": [
    {
     "name": "stdout",
     "output_type": "stream",
     "text": [
      "The current stock price of RELIANCE is ₹ 2,597.\n"
     ]
    }
   ],
   "source": [
    "print(chat_output[\"messages\"][-1].content)"
   ]
  }
 ],
 "metadata": {
  "kernelspec": {
   "display_name": "LangGraph (3.13.7)",
   "language": "python",
   "name": "python3"
  },
  "language_info": {
   "codemirror_mode": {
    "name": "ipython",
    "version": 3
   },
   "file_extension": ".py",
   "mimetype": "text/x-python",
   "name": "python",
   "nbconvert_exporter": "python",
   "pygments_lexer": "ipython3",
   "version": "3.13.7"
  }
 },
 "nbformat": 4,
 "nbformat_minor": 5
}
